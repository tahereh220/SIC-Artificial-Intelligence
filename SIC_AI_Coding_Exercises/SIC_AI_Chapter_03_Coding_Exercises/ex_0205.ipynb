{
  "cells": [
    {
      "cell_type": "markdown",
      "metadata": {
        "id": "n7UKjzM9_Aum"
      },
      "source": [
        "## Coding Exercise #0205"
      ]
    },
    {
      "cell_type": "markdown",
      "metadata": {
        "id": "EZGDfs2p_Aur"
      },
      "source": [
        "### 1. Pandas DataFrame basics:"
      ]
    },
    {
      "cell_type": "code",
      "execution_count": 1,
      "metadata": {
        "id": "eWCsll1R_Aus"
      },
      "outputs": [],
      "source": [
        "import pandas as pd\n",
        "import numpy as np\n",
        "import os"
      ]
    },
    {
      "cell_type": "markdown",
      "metadata": {
        "id": "a6EWGfst_Auu"
      },
      "source": [
        "#### 1.1. Creating a new DataFrame:"
      ]
    },
    {
      "cell_type": "markdown",
      "metadata": {
        "id": "cL_xAvB5_Auu"
      },
      "source": [
        "From a dictionary:"
      ]
    },
    {
      "cell_type": "code",
      "execution_count": 2,
      "metadata": {
        "id": "sR3JU5fu_Auv",
        "outputId": "bad30708-dbca-4c93-a11f-39a1fcb0223c",
        "colab": {
          "base_uri": "https://localhost:8080/",
          "height": 174
        }
      },
      "outputs": [
        {
          "output_type": "execute_result",
          "data": {
            "text/html": [
              "\n",
              "  <div id=\"df-321aa624-4ebb-4865-a9c8-edd470669b17\">\n",
              "    <div class=\"colab-df-container\">\n",
              "      <div>\n",
              "<style scoped>\n",
              "    .dataframe tbody tr th:only-of-type {\n",
              "        vertical-align: middle;\n",
              "    }\n",
              "\n",
              "    .dataframe tbody tr th {\n",
              "        vertical-align: top;\n",
              "    }\n",
              "\n",
              "    .dataframe thead th {\n",
              "        text-align: right;\n",
              "    }\n",
              "</style>\n",
              "<table border=\"1\" class=\"dataframe\">\n",
              "  <thead>\n",
              "    <tr style=\"text-align: right;\">\n",
              "      <th></th>\n",
              "      <th>NAME</th>\n",
              "      <th>AGE</th>\n",
              "      <th>GENDER</th>\n",
              "    </tr>\n",
              "  </thead>\n",
              "  <tbody>\n",
              "    <tr>\n",
              "      <th>0</th>\n",
              "      <td>Jake</td>\n",
              "      <td>24</td>\n",
              "      <td>M</td>\n",
              "    </tr>\n",
              "    <tr>\n",
              "      <th>1</th>\n",
              "      <td>Jennifer</td>\n",
              "      <td>21</td>\n",
              "      <td>F</td>\n",
              "    </tr>\n",
              "    <tr>\n",
              "      <th>2</th>\n",
              "      <td>Paul</td>\n",
              "      <td>25</td>\n",
              "      <td>M</td>\n",
              "    </tr>\n",
              "    <tr>\n",
              "      <th>3</th>\n",
              "      <td>Andrew</td>\n",
              "      <td>19</td>\n",
              "      <td>M</td>\n",
              "    </tr>\n",
              "  </tbody>\n",
              "</table>\n",
              "</div>\n",
              "      <button class=\"colab-df-convert\" onclick=\"convertToInteractive('df-321aa624-4ebb-4865-a9c8-edd470669b17')\"\n",
              "              title=\"Convert this dataframe to an interactive table.\"\n",
              "              style=\"display:none;\">\n",
              "        \n",
              "  <svg xmlns=\"http://www.w3.org/2000/svg\" height=\"24px\"viewBox=\"0 0 24 24\"\n",
              "       width=\"24px\">\n",
              "    <path d=\"M0 0h24v24H0V0z\" fill=\"none\"/>\n",
              "    <path d=\"M18.56 5.44l.94 2.06.94-2.06 2.06-.94-2.06-.94-.94-2.06-.94 2.06-2.06.94zm-11 1L8.5 8.5l.94-2.06 2.06-.94-2.06-.94L8.5 2.5l-.94 2.06-2.06.94zm10 10l.94 2.06.94-2.06 2.06-.94-2.06-.94-.94-2.06-.94 2.06-2.06.94z\"/><path d=\"M17.41 7.96l-1.37-1.37c-.4-.4-.92-.59-1.43-.59-.52 0-1.04.2-1.43.59L10.3 9.45l-7.72 7.72c-.78.78-.78 2.05 0 2.83L4 21.41c.39.39.9.59 1.41.59.51 0 1.02-.2 1.41-.59l7.78-7.78 2.81-2.81c.8-.78.8-2.07 0-2.86zM5.41 20L4 18.59l7.72-7.72 1.47 1.35L5.41 20z\"/>\n",
              "  </svg>\n",
              "      </button>\n",
              "      \n",
              "  <style>\n",
              "    .colab-df-container {\n",
              "      display:flex;\n",
              "      flex-wrap:wrap;\n",
              "      gap: 12px;\n",
              "    }\n",
              "\n",
              "    .colab-df-convert {\n",
              "      background-color: #E8F0FE;\n",
              "      border: none;\n",
              "      border-radius: 50%;\n",
              "      cursor: pointer;\n",
              "      display: none;\n",
              "      fill: #1967D2;\n",
              "      height: 32px;\n",
              "      padding: 0 0 0 0;\n",
              "      width: 32px;\n",
              "    }\n",
              "\n",
              "    .colab-df-convert:hover {\n",
              "      background-color: #E2EBFA;\n",
              "      box-shadow: 0px 1px 2px rgba(60, 64, 67, 0.3), 0px 1px 3px 1px rgba(60, 64, 67, 0.15);\n",
              "      fill: #174EA6;\n",
              "    }\n",
              "\n",
              "    [theme=dark] .colab-df-convert {\n",
              "      background-color: #3B4455;\n",
              "      fill: #D2E3FC;\n",
              "    }\n",
              "\n",
              "    [theme=dark] .colab-df-convert:hover {\n",
              "      background-color: #434B5C;\n",
              "      box-shadow: 0px 1px 3px 1px rgba(0, 0, 0, 0.15);\n",
              "      filter: drop-shadow(0px 1px 2px rgba(0, 0, 0, 0.3));\n",
              "      fill: #FFFFFF;\n",
              "    }\n",
              "  </style>\n",
              "\n",
              "      <script>\n",
              "        const buttonEl =\n",
              "          document.querySelector('#df-321aa624-4ebb-4865-a9c8-edd470669b17 button.colab-df-convert');\n",
              "        buttonEl.style.display =\n",
              "          google.colab.kernel.accessAllowed ? 'block' : 'none';\n",
              "\n",
              "        async function convertToInteractive(key) {\n",
              "          const element = document.querySelector('#df-321aa624-4ebb-4865-a9c8-edd470669b17');\n",
              "          const dataTable =\n",
              "            await google.colab.kernel.invokeFunction('convertToInteractive',\n",
              "                                                     [key], {});\n",
              "          if (!dataTable) return;\n",
              "\n",
              "          const docLinkHtml = 'Like what you see? Visit the ' +\n",
              "            '<a target=\"_blank\" href=https://colab.research.google.com/notebooks/data_table.ipynb>data table notebook</a>'\n",
              "            + ' to learn more about interactive tables.';\n",
              "          element.innerHTML = '';\n",
              "          dataTable['output_type'] = 'display_data';\n",
              "          await google.colab.output.renderOutput(dataTable, element);\n",
              "          const docLink = document.createElement('div');\n",
              "          docLink.innerHTML = docLinkHtml;\n",
              "          element.appendChild(docLink);\n",
              "        }\n",
              "      </script>\n",
              "    </div>\n",
              "  </div>\n",
              "  "
            ],
            "text/plain": [
              "       NAME  AGE GENDER\n",
              "0      Jake   24      M\n",
              "1  Jennifer   21      F\n",
              "2      Paul   25      M\n",
              "3    Andrew   19      M"
            ]
          },
          "metadata": {},
          "execution_count": 2
        }
      ],
      "source": [
        "data = { 'NAME' : ['Jake', 'Jennifer', 'Paul', 'Andrew'], 'AGE': [24,21,25,19], 'GENDER':['M','F','M','M']}\n",
        "df = pd.DataFrame(data)\n",
        "df"
      ]
    },
    {
      "cell_type": "markdown",
      "metadata": {
        "id": "s6-egZbt_Auv"
      },
      "source": [
        "From a NumPy array:"
      ]
    },
    {
      "cell_type": "code",
      "execution_count": 6,
      "metadata": {
        "id": "qW5NRvK6_Auw",
        "outputId": "3ba8be52-38cf-4490-8b53-5c4cbcda3b05",
        "colab": {
          "base_uri": "https://localhost:8080/",
          "height": 143
        }
      },
      "outputs": [
        {
          "output_type": "execute_result",
          "data": {
            "text/html": [
              "\n",
              "  <div id=\"df-62bc9d3c-4e71-46d9-b36c-1e91f815440f\">\n",
              "    <div class=\"colab-df-container\">\n",
              "      <div>\n",
              "<style scoped>\n",
              "    .dataframe tbody tr th:only-of-type {\n",
              "        vertical-align: middle;\n",
              "    }\n",
              "\n",
              "    .dataframe tbody tr th {\n",
              "        vertical-align: top;\n",
              "    }\n",
              "\n",
              "    .dataframe thead th {\n",
              "        text-align: right;\n",
              "    }\n",
              "</style>\n",
              "<table border=\"1\" class=\"dataframe\">\n",
              "  <thead>\n",
              "    <tr style=\"text-align: right;\">\n",
              "      <th></th>\n",
              "      <th>A</th>\n",
              "      <th>B</th>\n",
              "      <th>C</th>\n",
              "      <th>D</th>\n",
              "      <th>E</th>\n",
              "    </tr>\n",
              "  </thead>\n",
              "  <tbody>\n",
              "    <tr>\n",
              "      <th>0</th>\n",
              "      <td>0.486903</td>\n",
              "      <td>0.667563</td>\n",
              "      <td>0.538877</td>\n",
              "      <td>0.443490</td>\n",
              "      <td>0.867307</td>\n",
              "    </tr>\n",
              "    <tr>\n",
              "      <th>1</th>\n",
              "      <td>0.723812</td>\n",
              "      <td>0.192588</td>\n",
              "      <td>0.975376</td>\n",
              "      <td>0.538595</td>\n",
              "      <td>0.926073</td>\n",
              "    </tr>\n",
              "    <tr>\n",
              "      <th>2</th>\n",
              "      <td>0.510483</td>\n",
              "      <td>0.087216</td>\n",
              "      <td>0.987254</td>\n",
              "      <td>0.823901</td>\n",
              "      <td>0.348127</td>\n",
              "    </tr>\n",
              "  </tbody>\n",
              "</table>\n",
              "</div>\n",
              "      <button class=\"colab-df-convert\" onclick=\"convertToInteractive('df-62bc9d3c-4e71-46d9-b36c-1e91f815440f')\"\n",
              "              title=\"Convert this dataframe to an interactive table.\"\n",
              "              style=\"display:none;\">\n",
              "        \n",
              "  <svg xmlns=\"http://www.w3.org/2000/svg\" height=\"24px\"viewBox=\"0 0 24 24\"\n",
              "       width=\"24px\">\n",
              "    <path d=\"M0 0h24v24H0V0z\" fill=\"none\"/>\n",
              "    <path d=\"M18.56 5.44l.94 2.06.94-2.06 2.06-.94-2.06-.94-.94-2.06-.94 2.06-2.06.94zm-11 1L8.5 8.5l.94-2.06 2.06-.94-2.06-.94L8.5 2.5l-.94 2.06-2.06.94zm10 10l.94 2.06.94-2.06 2.06-.94-2.06-.94-.94-2.06-.94 2.06-2.06.94z\"/><path d=\"M17.41 7.96l-1.37-1.37c-.4-.4-.92-.59-1.43-.59-.52 0-1.04.2-1.43.59L10.3 9.45l-7.72 7.72c-.78.78-.78 2.05 0 2.83L4 21.41c.39.39.9.59 1.41.59.51 0 1.02-.2 1.41-.59l7.78-7.78 2.81-2.81c.8-.78.8-2.07 0-2.86zM5.41 20L4 18.59l7.72-7.72 1.47 1.35L5.41 20z\"/>\n",
              "  </svg>\n",
              "      </button>\n",
              "      \n",
              "  <style>\n",
              "    .colab-df-container {\n",
              "      display:flex;\n",
              "      flex-wrap:wrap;\n",
              "      gap: 12px;\n",
              "    }\n",
              "\n",
              "    .colab-df-convert {\n",
              "      background-color: #E8F0FE;\n",
              "      border: none;\n",
              "      border-radius: 50%;\n",
              "      cursor: pointer;\n",
              "      display: none;\n",
              "      fill: #1967D2;\n",
              "      height: 32px;\n",
              "      padding: 0 0 0 0;\n",
              "      width: 32px;\n",
              "    }\n",
              "\n",
              "    .colab-df-convert:hover {\n",
              "      background-color: #E2EBFA;\n",
              "      box-shadow: 0px 1px 2px rgba(60, 64, 67, 0.3), 0px 1px 3px 1px rgba(60, 64, 67, 0.15);\n",
              "      fill: #174EA6;\n",
              "    }\n",
              "\n",
              "    [theme=dark] .colab-df-convert {\n",
              "      background-color: #3B4455;\n",
              "      fill: #D2E3FC;\n",
              "    }\n",
              "\n",
              "    [theme=dark] .colab-df-convert:hover {\n",
              "      background-color: #434B5C;\n",
              "      box-shadow: 0px 1px 3px 1px rgba(0, 0, 0, 0.15);\n",
              "      filter: drop-shadow(0px 1px 2px rgba(0, 0, 0, 0.3));\n",
              "      fill: #FFFFFF;\n",
              "    }\n",
              "  </style>\n",
              "\n",
              "      <script>\n",
              "        const buttonEl =\n",
              "          document.querySelector('#df-62bc9d3c-4e71-46d9-b36c-1e91f815440f button.colab-df-convert');\n",
              "        buttonEl.style.display =\n",
              "          google.colab.kernel.accessAllowed ? 'block' : 'none';\n",
              "\n",
              "        async function convertToInteractive(key) {\n",
              "          const element = document.querySelector('#df-62bc9d3c-4e71-46d9-b36c-1e91f815440f');\n",
              "          const dataTable =\n",
              "            await google.colab.kernel.invokeFunction('convertToInteractive',\n",
              "                                                     [key], {});\n",
              "          if (!dataTable) return;\n",
              "\n",
              "          const docLinkHtml = 'Like what you see? Visit the ' +\n",
              "            '<a target=\"_blank\" href=https://colab.research.google.com/notebooks/data_table.ipynb>data table notebook</a>'\n",
              "            + ' to learn more about interactive tables.';\n",
              "          element.innerHTML = '';\n",
              "          dataTable['output_type'] = 'display_data';\n",
              "          await google.colab.output.renderOutput(dataTable, element);\n",
              "          const docLink = document.createElement('div');\n",
              "          docLink.innerHTML = docLinkHtml;\n",
              "          element.appendChild(docLink);\n",
              "        }\n",
              "      </script>\n",
              "    </div>\n",
              "  </div>\n",
              "  "
            ],
            "text/plain": [
              "          A         B         C         D         E\n",
              "0  0.486903  0.667563  0.538877  0.443490  0.867307\n",
              "1  0.723812  0.192588  0.975376  0.538595  0.926073\n",
              "2  0.510483  0.087216  0.987254  0.823901  0.348127"
            ]
          },
          "metadata": {},
          "execution_count": 6
        }
      ],
      "source": [
        "df = pd.DataFrame(np.random.rand(10,5), columns=['A','B','C','D','E'])\n",
        "df.head(3)    #default value for head is 5"
      ]
    },
    {
      "cell_type": "markdown",
      "metadata": {
        "id": "Vtc6U6Yl_Auw"
      },
      "source": [
        "#### 1.2. Reading data into a DataFrame:"
      ]
    },
    {
      "cell_type": "code",
      "execution_count": 10,
      "metadata": {
        "id": "oCa-KbPr_Aux",
        "outputId": "68fec930-bdd7-456b-96aa-96750e084a22",
        "colab": {
          "base_uri": "https://localhost:8080/"
        }
      },
      "outputs": [
        {
          "output_type": "stream",
          "name": "stdout",
          "text": [
            "--2022-02-10 23:50:53--  https://raw.githubusercontent.com/tahereh220/SIC-Artificial-Intelligence/main/SIC_AI_Coding_Exercises/SIC_AI_Chapter_03_Coding_Exercises/data_studentlist.csv\n",
            "Resolving raw.githubusercontent.com (raw.githubusercontent.com)... 185.199.109.133, 185.199.108.133, 185.199.110.133, ...\n",
            "Connecting to raw.githubusercontent.com (raw.githubusercontent.com)|185.199.109.133|:443... connected.\n",
            "HTTP request sent, awaiting response... 200 OK\n",
            "Length: 674 [text/plain]\n",
            "Saving to: ‘data_studentlist.csv’\n",
            "\n",
            "\rdata_studentlist.cs   0%[                    ]       0  --.-KB/s               \rdata_studentlist.cs 100%[===================>]     674  --.-KB/s    in 0s      \n",
            "\n",
            "2022-02-10 23:50:53 (30.2 MB/s) - ‘data_studentlist.csv’ saved [674/674]\n",
            "\n"
          ]
        }
      ],
      "source": [
        "!wget --no-clobber https://raw.githubusercontent.com/tahereh220/SIC-Artificial-Intelligence/main/SIC_AI_Coding_Exercises/SIC_AI_Chapter_03_Coding_Exercises/data_studentlist.csv"
      ]
    },
    {
      "cell_type": "code",
      "execution_count": 12,
      "metadata": {
        "id": "7ueWLd0s_Auy",
        "outputId": "89feaf4a-3928-495e-98cc-95deb7509553",
        "colab": {
          "base_uri": "https://localhost:8080/"
        }
      },
      "outputs": [
        {
          "output_type": "stream",
          "name": "stdout",
          "text": [
            "                name gender  age  grade absence bloodtype  height  weight\n",
            "0      Jared Diamond      M   23      3       Y         O   165.3    68.2\n",
            "1     Sarah O'Donnel      F   22      2       N        AB   170.1    53.0\n",
            "2       Brian Martin      M   24      4       N         B   175.0    80.1\n",
            "3       David Hassel      M   23      3       N        AB   182.1    85.7\n",
            "4    Clara Rodriquez      F   20      1       Y         A   168.0    49.5\n",
            "5   Jennifer Lorentz      F   21      2       N         O   162.0    52.0\n",
            "6        Susan Clark      F   22      1       N         O   155.2    45.3\n",
            "7    Margareth Jones      F   23      1       N         A   176.9    55.0\n",
            "8       John Bertsch      M   23      3       N         B   178.5    64.2\n",
            "9     Jake Timmerman      M   22      2       N         B   176.1    61.3\n",
            "10     Joshua Connor      M   24      4       Y         O   167.1    62.0\n",
            "11      John Matsuda      M   22      2       N        AB   180.0    75.8\n",
            "12      Eddy Johnson      M   21      1       N         A   162.2    55.3\n",
            "13  Rebecah Anderson      F   23      3       N         O   176.1    53.1\n",
            "14      Linda Carter      F   22      2       N         B   158.2    45.2\n",
            "15    Richard Swayze      M   24      4       Y         B   168.6    70.2\n",
            "16       Andrew King      M   21      1       N         A   169.2    62.2\n"
          ]
        }
      ],
      "source": [
        "df = pd.read_csv('data_studentlist.csv', header='infer')\n",
        "print(df)"
      ]
    },
    {
      "cell_type": "markdown",
      "metadata": {
        "id": "_B4vnQxt_Auy"
      },
      "source": [
        "Check for some of the DataFrame attributes:"
      ]
    },
    {
      "cell_type": "code",
      "execution_count": null,
      "metadata": {
        "id": "6ebQ__bM_Auy"
      },
      "outputs": [],
      "source": [
        "df.shape"
      ]
    },
    {
      "cell_type": "code",
      "execution_count": null,
      "metadata": {
        "id": "uBeOLgp6_Auz"
      },
      "outputs": [],
      "source": [
        "df.size"
      ]
    },
    {
      "cell_type": "code",
      "execution_count": null,
      "metadata": {
        "id": "4TuFEVbB_Auz"
      },
      "outputs": [],
      "source": [
        "df.ndim"
      ]
    },
    {
      "cell_type": "code",
      "execution_count": null,
      "metadata": {
        "id": "h241Ltg0_Auz"
      },
      "outputs": [],
      "source": [
        "df.columns"
      ]
    },
    {
      "cell_type": "code",
      "execution_count": null,
      "metadata": {
        "id": "kTQOnL2a_Au0"
      },
      "outputs": [],
      "source": [
        "df.index"
      ]
    },
    {
      "cell_type": "code",
      "execution_count": null,
      "metadata": {
        "id": "s1iQH7AB_Au0"
      },
      "outputs": [],
      "source": [
        "type(df)"
      ]
    },
    {
      "cell_type": "markdown",
      "metadata": {
        "id": "wJ8LEEIu_Au0"
      },
      "source": [
        "Summarize the DataFrame:"
      ]
    },
    {
      "cell_type": "code",
      "execution_count": null,
      "metadata": {
        "id": "HkuFFXXZ_Au0"
      },
      "outputs": [],
      "source": [
        "df.info()"
      ]
    },
    {
      "cell_type": "code",
      "execution_count": null,
      "metadata": {
        "id": "kg9rL38y_Au1"
      },
      "outputs": [],
      "source": [
        "df.describe()"
      ]
    },
    {
      "cell_type": "markdown",
      "metadata": {
        "id": "qccTwttX_Au1"
      },
      "source": [
        "Show the head and tail parts:"
      ]
    },
    {
      "cell_type": "code",
      "execution_count": null,
      "metadata": {
        "id": "KPGYoVWV_Au1"
      },
      "outputs": [],
      "source": [
        "df.head(3)"
      ]
    },
    {
      "cell_type": "code",
      "execution_count": null,
      "metadata": {
        "id": "BKVz-EDg_Au1"
      },
      "outputs": [],
      "source": [
        "df.tail(3)"
      ]
    },
    {
      "cell_type": "markdown",
      "metadata": {
        "id": "VHne993T_Au2"
      },
      "source": [
        "Replacing the 'columns' (header):"
      ]
    },
    {
      "cell_type": "code",
      "execution_count": null,
      "metadata": {
        "id": "lyBOd3Em_Au2"
      },
      "outputs": [],
      "source": [
        "header = df.columns\n",
        "header"
      ]
    },
    {
      "cell_type": "code",
      "execution_count": null,
      "metadata": {
        "id": "6s2eEoKP_Au2"
      },
      "outputs": [],
      "source": [
        "df.columns = ['NAME', 'GENDER' , 'AGE', 'GRADE', 'ABSENCE', 'BLOODTYPE', 'HEIGHT', 'WEIGHT']\n",
        "df.head(3)"
      ]
    },
    {
      "cell_type": "markdown",
      "metadata": {
        "id": "HlGSUTGa_Au2"
      },
      "source": [
        "#### 1.3. Indexing and slicing DataFrames:"
      ]
    },
    {
      "cell_type": "code",
      "execution_count": null,
      "metadata": {
        "id": "RT304dIA_Au2"
      },
      "outputs": [],
      "source": [
        "# A column.\n",
        "df.NAME"
      ]
    },
    {
      "cell_type": "code",
      "execution_count": null,
      "metadata": {
        "id": "REaypl-u_Au3"
      },
      "outputs": [],
      "source": [
        "# This is in fact a Series:\n",
        "type(df.NAME)"
      ]
    },
    {
      "cell_type": "code",
      "execution_count": null,
      "metadata": {
        "id": "FmK7Tljq_Au3"
      },
      "outputs": [],
      "source": [
        "# This is also a Series:\n",
        "df['NAME']"
      ]
    },
    {
      "cell_type": "code",
      "execution_count": null,
      "metadata": {
        "id": "-pkDMXCa_Au3"
      },
      "outputs": [],
      "source": [
        "# However, this is a DataFrame with one column, not a Series:\n",
        "df[['NAME']]"
      ]
    },
    {
      "cell_type": "code",
      "execution_count": null,
      "metadata": {
        "id": "fBQC3K29_Au3"
      },
      "outputs": [],
      "source": [
        "# Another way of getting a columns as Series:\n",
        "df.loc[:,'NAME']"
      ]
    },
    {
      "cell_type": "code",
      "execution_count": null,
      "metadata": {
        "id": "47P89yTJ_Au3"
      },
      "outputs": [],
      "source": [
        "df.loc[:,['NAME','GENDER']]"
      ]
    },
    {
      "cell_type": "code",
      "execution_count": null,
      "metadata": {
        "id": "uC-bY4TN_Au4"
      },
      "outputs": [],
      "source": [
        "df.iloc[:,[0,1]]"
      ]
    },
    {
      "cell_type": "code",
      "execution_count": null,
      "metadata": {
        "id": "purl5I9v_Au4"
      },
      "outputs": [],
      "source": [
        "df.loc[:,(header =='NAME') | (header == 'GENDER')]"
      ]
    },
    {
      "cell_type": "code",
      "execution_count": null,
      "metadata": {
        "id": "NuE-5imk_Au4"
      },
      "outputs": [],
      "source": [
        "# This is a row.\n",
        "df.loc[2]"
      ]
    },
    {
      "cell_type": "code",
      "execution_count": null,
      "metadata": {
        "id": "WEeR3KBs_Au5"
      },
      "outputs": [],
      "source": [
        "df.loc[2:4]"
      ]
    },
    {
      "cell_type": "code",
      "execution_count": null,
      "metadata": {
        "id": "twwWskPA_Au5"
      },
      "outputs": [],
      "source": [
        "df.iloc[2:4]"
      ]
    },
    {
      "cell_type": "code",
      "execution_count": null,
      "metadata": {
        "id": "YRIipXXM_Au5"
      },
      "outputs": [],
      "source": [
        "df.drop(columns=['NAME','GENDER'])                  # This is just a view.\n",
        "#df.drop(columns=['NAME','GENDER'],inplace=True)    # => To remove permanently."
      ]
    },
    {
      "cell_type": "code",
      "execution_count": null,
      "metadata": {
        "id": "rUSd7UW9_Au5"
      },
      "outputs": [],
      "source": [
        "df.loc[:, (header!='NAME') & (header!='GENDER')]"
      ]
    },
    {
      "cell_type": "markdown",
      "metadata": {
        "id": "gf66Tjrr_Au5"
      },
      "source": [
        "Conditional slicing:"
      ]
    },
    {
      "cell_type": "code",
      "execution_count": null,
      "metadata": {
        "id": "eXJgcBVK_Au5"
      },
      "outputs": [],
      "source": [
        "# Males only.\n",
        "df[df.GENDER == 'M']"
      ]
    },
    {
      "cell_type": "code",
      "execution_count": null,
      "metadata": {
        "id": "XDpmimwg_Au6"
      },
      "outputs": [],
      "source": [
        "# Only non-males.\n",
        "df[-(df.GENDER == 'M')]"
      ]
    },
    {
      "cell_type": "code",
      "execution_count": null,
      "metadata": {
        "id": "0GF-jPJ0_Au6"
      },
      "outputs": [],
      "source": [
        "df[df.GENDER == 'F']"
      ]
    },
    {
      "cell_type": "code",
      "execution_count": null,
      "metadata": {
        "id": "dx6l-fju_Au6"
      },
      "outputs": [],
      "source": [
        "df[df.HEIGHT > 170]"
      ]
    },
    {
      "cell_type": "code",
      "execution_count": null,
      "metadata": {
        "id": "eYM15ldw_Au6"
      },
      "outputs": [],
      "source": [
        "df[ (df.WEIGHT > 70) & (df.WEIGHT < 80)]"
      ]
    },
    {
      "cell_type": "code",
      "execution_count": null,
      "metadata": {
        "id": "0qd36Cx9_Au6"
      },
      "outputs": [],
      "source": [
        "df[ (df.GENDER == 'M') & (df.HEIGHT > 175)]"
      ]
    },
    {
      "cell_type": "code",
      "execution_count": null,
      "metadata": {
        "id": "QGkFgF7C_Au6"
      },
      "outputs": [],
      "source": [
        "# Opposite criteria to the previous one.\n",
        "df[ -((df.GENDER == 'M') & (df.HEIGHT > 175))]"
      ]
    },
    {
      "cell_type": "markdown",
      "metadata": {
        "id": "OSzRcp90_Au6"
      },
      "source": [
        "#### 1.4. File reading and writing:"
      ]
    },
    {
      "cell_type": "markdown",
      "metadata": {
        "id": "J6wcMjmq_Au7"
      },
      "source": [
        "Read and write in the CSV format:"
      ]
    },
    {
      "cell_type": "code",
      "execution_count": null,
      "metadata": {
        "id": "SJO_do_C_Au7"
      },
      "outputs": [],
      "source": [
        "df2 = df.drop(columns=['GRADE','ABSENCE'])\n",
        "df2.to_csv('data_mine.csv',index=False)"
      ]
    },
    {
      "cell_type": "code",
      "execution_count": null,
      "metadata": {
        "id": "Fmf0ldY__Au7"
      },
      "outputs": [],
      "source": [
        "df3 = pd.read_csv('data_mine.csv',encoding='latin1',header='infer')"
      ]
    },
    {
      "cell_type": "code",
      "execution_count": null,
      "metadata": {
        "id": "PmWvOpiH_Au7"
      },
      "outputs": [],
      "source": [
        "df3.head(3)"
      ]
    },
    {
      "cell_type": "markdown",
      "metadata": {
        "id": "u4VNQxR9_Au7"
      },
      "source": [
        "Read and write as a Excel document:"
      ]
    },
    {
      "cell_type": "code",
      "execution_count": null,
      "metadata": {
        "id": "3qWdM4kd_Au7"
      },
      "outputs": [],
      "source": [
        "!wget --no-clobber https://github.com/stefannae/SIC-Artificial-Intelligence/blob/main/SIC_AI_Coding_Exercises/SIC_AI_Chapter_03_Coding_Exercises/data_studentlist.xlsx"
      ]
    },
    {
      "cell_type": "code",
      "execution_count": null,
      "metadata": {
        "id": "RJroe8vL_Au7"
      },
      "outputs": [],
      "source": [
        "dfx = pd.read_excel('data_studentlist.xlsx')"
      ]
    },
    {
      "cell_type": "code",
      "execution_count": null,
      "metadata": {
        "id": "0NM9PJne_Au8"
      },
      "outputs": [],
      "source": [
        "dfx.head(5)"
      ]
    },
    {
      "cell_type": "code",
      "execution_count": null,
      "metadata": {
        "id": "GuN8f2qk_Au8"
      },
      "outputs": [],
      "source": [
        "dfx.to_excel('data_studentlist2.xlsx',sheet_name='NewSheet', index=False)"
      ]
    },
    {
      "cell_type": "code",
      "execution_count": null,
      "metadata": {
        "id": "TuBhdMOv_Au8"
      },
      "outputs": [],
      "source": [
        ""
      ]
    }
  ],
  "metadata": {
    "kernelspec": {
      "display_name": "Python 3",
      "language": "python",
      "name": "python3"
    },
    "language_info": {
      "codemirror_mode": {
        "name": "ipython",
        "version": 3
      },
      "file_extension": ".py",
      "mimetype": "text/x-python",
      "name": "python",
      "nbconvert_exporter": "python",
      "pygments_lexer": "ipython3",
      "version": "3.7.3"
    },
    "colab": {
      "name": "ex_0205.ipynb",
      "provenance": []
    }
  },
  "nbformat": 4,
  "nbformat_minor": 0
}