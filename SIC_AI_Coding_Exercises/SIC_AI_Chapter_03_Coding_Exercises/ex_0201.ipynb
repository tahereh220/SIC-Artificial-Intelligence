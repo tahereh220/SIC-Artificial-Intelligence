{
  "cells": [
    {
      "cell_type": "markdown",
      "metadata": {
        "id": "THIXT_2OeE4V"
      },
      "source": [
        "## Coding Exercise 0201"
      ]
    },
    {
      "cell_type": "markdown",
      "metadata": {
        "id": "PKYw04QpeE4b"
      },
      "source": [
        "### 1. NumPy library:"
      ]
    },
    {
      "cell_type": "markdown",
      "metadata": {
        "id": "46minY-qeE4c"
      },
      "source": [
        "#### 1.1. NumPy basics:"
      ]
    },
    {
      "cell_type": "code",
      "execution_count": 2,
      "metadata": {
        "colab": {
          "base_uri": "https://localhost:8080/",
          "height": 35
        },
        "id": "phBg_JX-eE4c",
        "outputId": "648dbec5-c261-4aa1-fbc8-a6c7ad836735"
      },
      "outputs": [
        {
          "output_type": "execute_result",
          "data": {
            "application/vnd.google.colaboratory.intrinsic+json": {
              "type": "string"
            },
            "text/plain": [
              "'1.19.5'"
            ]
          },
          "metadata": {},
          "execution_count": 2
        }
      ],
      "source": [
        "import numpy as np\n",
        "np.__version__"
      ]
    },
    {
      "cell_type": "code",
      "execution_count": 7,
      "metadata": {
        "colab": {
          "base_uri": "https://localhost:8080/"
        },
        "id": "zihyw9c9eE4d",
        "outputId": "b0c9d050-08b3-4504-958f-0e418b7f1c17"
      },
      "outputs": [
        {
          "output_type": "stream",
          "name": "stdout",
          "text": [
            "\n",
            "id(arr1) :  139856676129648\n",
            "\n",
            "id(arr2) :  139856676128688\n",
            "\n",
            "id(arr3) :  139856676129648\n",
            "\n",
            "id(arr4) :  139856676129248\n",
            "\n",
            "id(arr5) :  139856676129168\n",
            "\n",
            "arr1 :  [ 0 33  5 55  9]\n",
            "\n",
            "arr3 :  [ 0 33  5 55  9]\n",
            "\n",
            "arr4 :  [ 1  3 44  7  9]\n",
            "\n",
            "arr5 :  [ 0 33  5 55  9]\n"
          ]
        }
      ],
      "source": [
        "arr1 = np.array([1,3,5,7,9])\n",
        "arr2 = np.array((1,3,5,7,9))\n",
        "arr3 = arr1\n",
        "arr4 = arr1.copy()\n",
        "arr5 = arr1.view()\n",
        "print(\"\\nid(arr1) : \", id(arr1))\n",
        "print(\"\\nid(arr2) : \", id(arr2))\n",
        "print(\"\\nid(arr3) : \", id(arr3))\n",
        "print(\"\\nid(arr4) : \", id(arr4))\n",
        "print(\"\\nid(arr5) : \", id(arr5))\n",
        "arr1[0] = 0\n",
        "arr3[1] = 33\n",
        "arr4[2] = 44\n",
        "arr5[3] = 55\n",
        "print(\"\\narr1 : \", arr1)\n",
        "print(\"\\narr3 : \", arr3)\n",
        "print(\"\\narr4 : \", arr4)\n",
        "print(\"\\narr5 : \", arr5)\n"
      ]
    },
    {
      "cell_type": "code",
      "source": [
        "from google.colab import drive\n",
        "drive.mount('/content/drive')"
      ],
      "metadata": {
        "colab": {
          "base_uri": "https://localhost:8080/"
        },
        "id": "rEexNhc8LeZm",
        "outputId": "4766b7b5-ee69-466c-f6ba-f5c54efd06e2"
      },
      "execution_count": 8,
      "outputs": [
        {
          "output_type": "stream",
          "name": "stdout",
          "text": [
            "Mounted at /content/drive\n"
          ]
        }
      ]
    },
    {
      "cell_type": "code",
      "execution_count": 4,
      "metadata": {
        "id": "pm0ZWx0feE4e"
      },
      "outputs": [],
      "source": [
        "arr3 = arr1"
      ]
    },
    {
      "cell_type": "code",
      "execution_count": 14,
      "metadata": {
        "colab": {
          "base_uri": "https://localhost:8080/"
        },
        "id": "Tox_i9_CeE4e",
        "outputId": "9cb1ccf9-5214-4fcf-d247-86d323558c51"
      },
      "outputs": [
        {
          "output_type": "execute_result",
          "data": {
            "text/plain": [
              "139710092299440"
            ]
          },
          "metadata": {},
          "execution_count": 14
        }
      ],
      "source": [
        "id(arr1)"
      ]
    },
    {
      "cell_type": "code",
      "execution_count": 6,
      "metadata": {
        "colab": {
          "base_uri": "https://localhost:8080/"
        },
        "id": "Wjl7pK32eE4f",
        "outputId": "71c64708-e311-4690-8d19-f545622bb997"
      },
      "outputs": [
        {
          "output_type": "execute_result",
          "data": {
            "text/plain": [
              "139710092299440"
            ]
          },
          "metadata": {},
          "execution_count": 6
        }
      ],
      "source": [
        "id(arr3)"
      ]
    },
    {
      "cell_type": "code",
      "execution_count": 7,
      "metadata": {
        "id": "dSrm0HlxeE4f"
      },
      "outputs": [],
      "source": [
        "arr4 = arr1.copy()\n",
        "arr5 = arr1.view()"
      ]
    },
    {
      "cell_type": "code",
      "execution_count": 15,
      "metadata": {
        "colab": {
          "base_uri": "https://localhost:8080/"
        },
        "id": "LESoGy_HeE4g",
        "outputId": "d00d1744-276e-433d-a975-5f0a8e2ddc2c"
      },
      "outputs": [
        {
          "output_type": "execute_result",
          "data": {
            "text/plain": [
              "139710073060128"
            ]
          },
          "metadata": {},
          "execution_count": 15
        }
      ],
      "source": [
        "id(arr4)"
      ]
    },
    {
      "cell_type": "code",
      "source": [
        "arr5 = arr1.view()"
      ],
      "metadata": {
        "id": "EeLYWPmOhT_G"
      },
      "execution_count": 12,
      "outputs": []
    },
    {
      "cell_type": "code",
      "source": [
        "id(arr5)"
      ],
      "metadata": {
        "colab": {
          "base_uri": "https://localhost:8080/"
        },
        "id": "wv1FT1hthfrx",
        "outputId": "46099ae7-aac6-4f3b-c4ff-a95d46f5c052"
      },
      "execution_count": 17,
      "outputs": [
        {
          "output_type": "execute_result",
          "data": {
            "text/plain": [
              "139710073189520"
            ]
          },
          "metadata": {},
          "execution_count": 17
        }
      ]
    },
    {
      "cell_type": "code",
      "source": [
        "print(\"arr1\")"
      ],
      "metadata": {
        "id": "0aHZnDENiKdQ"
      },
      "execution_count": null,
      "outputs": []
    },
    {
      "cell_type": "markdown",
      "metadata": {
        "id": "rOr_A2RMeE4g"
      },
      "source": [
        "#### 1.2. Creating NumPy arrays:"
      ]
    },
    {
      "cell_type": "markdown",
      "metadata": {
        "id": "cwGKIyR-eE4g"
      },
      "source": [
        "numpy.arange() function:"
      ]
    },
    {
      "cell_type": "code",
      "execution_count": 9,
      "metadata": {
        "colab": {
          "base_uri": "https://localhost:8080/"
        },
        "id": "TALEOnq7eE4h",
        "outputId": "ab244de7-7a30-456c-a99c-2f640cc686b7"
      },
      "outputs": [
        {
          "output_type": "execute_result",
          "data": {
            "text/plain": [
              "array([0, 1, 2, 3, 4, 5, 6, 7, 8, 9])"
            ]
          },
          "metadata": {},
          "execution_count": 9
        }
      ],
      "source": [
        "np.arange(10)"
      ]
    },
    {
      "cell_type": "code",
      "execution_count": 10,
      "metadata": {
        "colab": {
          "base_uri": "https://localhost:8080/"
        },
        "id": "MCuCktzTeE4h",
        "outputId": "c8ed5c4a-75f6-45d8-e161-8d2f4e2c01ea"
      },
      "outputs": [
        {
          "output_type": "execute_result",
          "data": {
            "text/plain": [
              "array([10, 11, 12, 13, 14, 15, 16, 17, 18, 19])"
            ]
          },
          "metadata": {},
          "execution_count": 10
        }
      ],
      "source": [
        "np.arange(10,20)"
      ]
    },
    {
      "cell_type": "code",
      "execution_count": 11,
      "metadata": {
        "colab": {
          "base_uri": "https://localhost:8080/"
        },
        "id": "j0rxR9_QeE4h",
        "outputId": "be40b109-8dc3-4994-f8b7-aa1bb2483a74"
      },
      "outputs": [
        {
          "output_type": "execute_result",
          "data": {
            "text/plain": [
              "array([10, 13, 16, 19])"
            ]
          },
          "metadata": {},
          "execution_count": 11
        }
      ],
      "source": [
        "np.arange(10, 20, 3)"
      ]
    },
    {
      "cell_type": "code",
      "execution_count": 13,
      "metadata": {
        "id": "V23yk7MMeE4h"
      },
      "outputs": [],
      "source": [
        "arr = np.arange(10) "
      ]
    },
    {
      "cell_type": "code",
      "execution_count": 14,
      "metadata": {
        "colab": {
          "base_uri": "https://localhost:8080/"
        },
        "id": "e_AHu1EPeE4i",
        "outputId": "9225b261-ebbb-4f0a-879b-b3a718e03abe"
      },
      "outputs": [
        {
          "output_type": "execute_result",
          "data": {
            "text/plain": [
              "10"
            ]
          },
          "metadata": {},
          "execution_count": 14
        }
      ],
      "source": [
        "len(arr)"
      ]
    },
    {
      "cell_type": "code",
      "execution_count": 16,
      "metadata": {
        "colab": {
          "base_uri": "https://localhost:8080/"
        },
        "id": "votT-Ek3eE4i",
        "outputId": "d4a6a012-04a9-46f5-8018-3000d14908f7"
      },
      "outputs": [
        {
          "output_type": "execute_result",
          "data": {
            "text/plain": [
              "10"
            ]
          },
          "metadata": {},
          "execution_count": 16
        }
      ],
      "source": [
        "arr.size "
      ]
    },
    {
      "cell_type": "code",
      "source": [
        "import numpy as np                                                      \n",
        "\n",
        "a = np.arange(36).reshape(2, 3, -1)                                     \n",
        "print(a)\n",
        "print(\"\\na.shape : \", a.shape)\n",
        "print(\"\\na.size : \", a.size)\n",
        "print(\"\\nlen(a) : \", len(a)) # len gives the length of the first dimension.\n"
      ],
      "metadata": {
        "id": "OwhkG_UcMSCB",
        "outputId": "17ec3ac4-3561-49ad-e316-0ddff79ce987",
        "colab": {
          "base_uri": "https://localhost:8080/"
        }
      },
      "execution_count": 17,
      "outputs": [
        {
          "output_type": "stream",
          "name": "stdout",
          "text": [
            "[[[ 0  1  2  3  4  5]\n",
            "  [ 6  7  8  9 10 11]\n",
            "  [12 13 14 15 16 17]]\n",
            "\n",
            " [[18 19 20 21 22 23]\n",
            "  [24 25 26 27 28 29]\n",
            "  [30 31 32 33 34 35]]]\n",
            "\n",
            "a.shape :  (2, 3, 6)\n",
            "\n",
            "a.size :  36\n",
            "\n",
            "len(a) :  2\n"
          ]
        }
      ]
    },
    {
      "cell_type": "markdown",
      "metadata": {
        "id": "X1cTa0zkeE4i"
      },
      "source": [
        "numpy.linspace() function:"
      ]
    },
    {
      "cell_type": "code",
      "execution_count": null,
      "metadata": {
        "id": "cHrhp3queE4i"
      },
      "outputs": [],
      "source": [
        "np.linspace(1, 10, 5)"
      ]
    },
    {
      "cell_type": "code",
      "execution_count": null,
      "metadata": {
        "id": "O5eDBTzXeE4j"
      },
      "outputs": [],
      "source": [
        "arr = np.linspace(0, 10, 5, retstep=True)\n",
        "type(arr)"
      ]
    },
    {
      "cell_type": "code",
      "execution_count": null,
      "metadata": {
        "id": "NQcujJMSeE4j"
      },
      "outputs": [],
      "source": [
        "arr[0]"
      ]
    },
    {
      "cell_type": "code",
      "execution_count": null,
      "metadata": {
        "id": "FuedtBH0eE4j"
      },
      "outputs": [],
      "source": [
        "arr[1]"
      ]
    },
    {
      "cell_type": "markdown",
      "metadata": {
        "id": "1b_zna_zeE4j"
      },
      "source": [
        "numpy.zeros() and numpy.ones() functions:"
      ]
    },
    {
      "cell_type": "code",
      "execution_count": null,
      "metadata": {
        "id": "MPGXc8ubeE4j"
      },
      "outputs": [],
      "source": [
        "np.zeros(10)"
      ]
    },
    {
      "cell_type": "code",
      "execution_count": null,
      "metadata": {
        "id": "bnB-NVU-eE4j"
      },
      "outputs": [],
      "source": [
        "np.zeros((3,4))"
      ]
    },
    {
      "cell_type": "code",
      "execution_count": null,
      "metadata": {
        "id": "tcOJ6fmBeE4k"
      },
      "outputs": [],
      "source": [
        "np.zeros(5, dtype ='int64')"
      ]
    },
    {
      "cell_type": "code",
      "execution_count": null,
      "metadata": {
        "id": "Nd1qvWMceE4k"
      },
      "outputs": [],
      "source": [
        "np.zeros(5, dtype ='int64').dtype"
      ]
    },
    {
      "cell_type": "code",
      "execution_count": null,
      "metadata": {
        "id": "C7kZb3BieE4k"
      },
      "outputs": [],
      "source": [
        "arr = np.ones((2,3), dtype ='int_')"
      ]
    },
    {
      "cell_type": "code",
      "execution_count": null,
      "metadata": {
        "id": "lxVfonPpeE4k"
      },
      "outputs": [],
      "source": [
        "arr"
      ]
    },
    {
      "cell_type": "code",
      "execution_count": null,
      "metadata": {
        "id": "CH5LtNfreE4k"
      },
      "outputs": [],
      "source": [
        "arr.dtype"
      ]
    },
    {
      "cell_type": "code",
      "execution_count": null,
      "metadata": {
        "id": "5ru7fl_OeE4l"
      },
      "outputs": [],
      "source": [
        "arr.astype('float32')"
      ]
    },
    {
      "cell_type": "markdown",
      "metadata": {
        "id": "rT0rBaszeE4l"
      },
      "source": [
        "Data type:"
      ]
    },
    {
      "cell_type": "code",
      "execution_count": null,
      "metadata": {
        "id": "JwvShOpPeE4l"
      },
      "outputs": [],
      "source": [
        "arr1 = np.array([111, 2.3,  True, False, False]) \n",
        "arr1"
      ]
    },
    {
      "cell_type": "code",
      "execution_count": null,
      "metadata": {
        "id": "W8SpP1j4eE4l"
      },
      "outputs": [],
      "source": [
        "arr2 = np.array([111, 2.3, 'python', 'abc']) \n",
        "arr2"
      ]
    },
    {
      "cell_type": "code",
      "execution_count": null,
      "metadata": {
        "id": "njsGEveBeE4l"
      },
      "outputs": [],
      "source": [
        "arr3 = np.array([111, True, 'abc']) \n",
        "arr3"
      ]
    },
    {
      "cell_type": "markdown",
      "metadata": {
        "id": "zYt7k7mVeE4m"
      },
      "source": [
        "#### 1.3. Indexing and slicing NumPy arrays:"
      ]
    },
    {
      "cell_type": "code",
      "execution_count": null,
      "metadata": {
        "id": "RJjia4FreE4m"
      },
      "outputs": [],
      "source": [
        "a = np.array([1, 2, 3, 4, 5])\n",
        "a[2]"
      ]
    },
    {
      "cell_type": "code",
      "execution_count": null,
      "metadata": {
        "id": "iKdN3tJNeE4m"
      },
      "outputs": [],
      "source": [
        "a[-1]"
      ]
    },
    {
      "cell_type": "code",
      "execution_count": null,
      "metadata": {
        "id": "u9p-dBvyeE4m"
      },
      "outputs": [],
      "source": [
        "a[:]"
      ]
    },
    {
      "cell_type": "code",
      "execution_count": null,
      "metadata": {
        "id": "0zbMd1uaeE4m"
      },
      "outputs": [],
      "source": [
        "a = np.array([[1, 2, 3,], [4, 5, 6], [7, 8, 9]])\n",
        "a"
      ]
    },
    {
      "cell_type": "code",
      "execution_count": null,
      "metadata": {
        "id": "qLdYPoF1eE4m"
      },
      "outputs": [],
      "source": [
        "a[1]"
      ]
    },
    {
      "cell_type": "code",
      "execution_count": null,
      "metadata": {
        "id": "0OyJssRreE4m"
      },
      "outputs": [],
      "source": [
        "a[-1]"
      ]
    },
    {
      "cell_type": "code",
      "execution_count": null,
      "metadata": {
        "id": "VqMTOFZzeE4m"
      },
      "outputs": [],
      "source": [
        "a[:2]"
      ]
    },
    {
      "cell_type": "code",
      "execution_count": null,
      "metadata": {
        "id": "JbfeI16heE4n"
      },
      "outputs": [],
      "source": [
        "a[2][1]"
      ]
    },
    {
      "cell_type": "code",
      "execution_count": null,
      "metadata": {
        "id": "YUKFfhbMeE4n"
      },
      "outputs": [],
      "source": [
        "a[2,1]"
      ]
    },
    {
      "cell_type": "code",
      "execution_count": null,
      "metadata": {
        "id": "xjAakAMJeE4n"
      },
      "outputs": [],
      "source": [
        "a[[0,2]]"
      ]
    },
    {
      "cell_type": "code",
      "execution_count": null,
      "metadata": {
        "id": "xi5Kj1igeE4o"
      },
      "outputs": [],
      "source": [
        "a[1:,1:]"
      ]
    },
    {
      "cell_type": "markdown",
      "metadata": {
        "id": "Urj0J_wreE4o"
      },
      "source": [
        "Fancy indexing:"
      ]
    },
    {
      "cell_type": "code",
      "execution_count": null,
      "metadata": {
        "id": "IDqOok7LeE4o"
      },
      "outputs": [],
      "source": [
        "arr = np.arange(100)\n",
        "arrMask = ( (arr % 5) == 0 ) \n",
        "arr[arrMask]"
      ]
    },
    {
      "cell_type": "code",
      "execution_count": null,
      "metadata": {
        "id": "dvWxiTFeeE4o"
      },
      "outputs": [],
      "source": [
        "arrMask = ( ( (arr % 5) == 0 )  & ( arr >0) )\n",
        "arr[arrMask]"
      ]
    },
    {
      "cell_type": "markdown",
      "metadata": {
        "id": "NtBX8k6veE4o"
      },
      "source": [
        "#### 1.4. NumPy attributes and reshaping:"
      ]
    },
    {
      "cell_type": "code",
      "execution_count": null,
      "metadata": {
        "id": "FPhx81GzeE4p"
      },
      "outputs": [],
      "source": [
        "a.size"
      ]
    },
    {
      "cell_type": "code",
      "execution_count": null,
      "metadata": {
        "id": "DfPYqqQ8eE4p"
      },
      "outputs": [],
      "source": [
        "a.shape"
      ]
    },
    {
      "cell_type": "code",
      "execution_count": null,
      "metadata": {
        "id": "bRTvPZpGeE4p"
      },
      "outputs": [],
      "source": [
        "a.ndim"
      ]
    },
    {
      "cell_type": "markdown",
      "metadata": {
        "id": "8dLdHPlreE4p"
      },
      "source": [
        "Change the shape with reshape() method:"
      ]
    },
    {
      "cell_type": "code",
      "execution_count": null,
      "metadata": {
        "id": "U8pAREFteE4p"
      },
      "outputs": [],
      "source": [
        "a = np.arange(15)\n",
        "a.reshape(3,5)"
      ]
    },
    {
      "cell_type": "code",
      "execution_count": null,
      "metadata": {
        "id": "Mn3gFdPceE4q"
      },
      "outputs": [],
      "source": [
        "# reshape() just produced a 'view'.\n",
        "# So, there is no permanent change to 'a'.\n",
        "a"
      ]
    },
    {
      "cell_type": "code",
      "execution_count": null,
      "metadata": {
        "id": "1v-AWTnyeE4q"
      },
      "outputs": [],
      "source": [
        "a = a.reshape(3,5)\n",
        "a"
      ]
    },
    {
      "cell_type": "code",
      "execution_count": null,
      "metadata": {
        "id": "8TVqneJqeE4q"
      },
      "outputs": [],
      "source": [
        "a = np.array([2,5,1,3])\n",
        "a.shape"
      ]
    },
    {
      "cell_type": "code",
      "execution_count": null,
      "metadata": {
        "id": "vbIvr1yAeE4q"
      },
      "outputs": [],
      "source": [
        "a = a.reshape((2,2))\n",
        "a"
      ]
    },
    {
      "cell_type": "markdown",
      "metadata": {
        "id": "TYN1--uceE4q"
      },
      "source": [
        "Careful that the reshape() method does not create a new object!"
      ]
    },
    {
      "cell_type": "code",
      "execution_count": null,
      "metadata": {
        "id": "oBhwXIwceE4q"
      },
      "outputs": [],
      "source": [
        "a = np.arange(10)\n",
        "b = a.reshape(2,5)\n",
        "a[0] = -999"
      ]
    },
    {
      "cell_type": "code",
      "execution_count": null,
      "metadata": {
        "id": "c34XViwheE4r"
      },
      "outputs": [],
      "source": [
        "b"
      ]
    },
    {
      "cell_type": "code",
      "execution_count": null,
      "metadata": {
        "id": "dX6sXv9jeE4r"
      },
      "outputs": [],
      "source": [
        "# Make a copy in order to create a new object.\n",
        "c = a.reshape(2,5).copy()\n",
        "c[0,0] = 0\n",
        "a"
      ]
    },
    {
      "cell_type": "markdown",
      "metadata": {
        "id": "zwLwu7-neE4r"
      },
      "source": [
        "#### 1.5. Modifying NumPy arrays:"
      ]
    },
    {
      "cell_type": "markdown",
      "metadata": {
        "id": "TD4az72WeE4r"
      },
      "source": [
        "Appending elements, rows and columns to arrays:"
      ]
    },
    {
      "cell_type": "code",
      "execution_count": null,
      "metadata": {
        "id": "F0Bgtr0qeE4r"
      },
      "outputs": [],
      "source": [
        "a = np.array([1, 2, 3])\n",
        "b = np.append(a, [4, 5, 6])\n",
        "b"
      ]
    },
    {
      "cell_type": "code",
      "execution_count": null,
      "metadata": {
        "id": "ZJzSJQGreE4r"
      },
      "outputs": [],
      "source": [
        "a = np.array([[1, 2], [3, 4]])\n",
        "b = np.append(a, [[9, 9]], axis=0)\n",
        "b"
      ]
    },
    {
      "cell_type": "code",
      "execution_count": null,
      "metadata": {
        "id": "o2GDQY07eE4s"
      },
      "outputs": [],
      "source": [
        "c = np.append(a, [[9], [9]] , axis=1)\n",
        "c"
      ]
    },
    {
      "cell_type": "markdown",
      "metadata": {
        "id": "orMkOba3eE4s"
      },
      "source": [
        "Deleting array elements, rows and columns:"
      ]
    },
    {
      "cell_type": "code",
      "execution_count": null,
      "metadata": {
        "id": "W4dNj5b6eE4s"
      },
      "outputs": [],
      "source": [
        "a = np.array([[1, 2, 3],[4, 5, 6]])\n",
        "np.delete(a, 0)"
      ]
    },
    {
      "cell_type": "code",
      "execution_count": null,
      "metadata": {
        "id": "WlVVIhqGeE4s"
      },
      "outputs": [],
      "source": [
        "np.delete(a, (0, 2, 4))"
      ]
    },
    {
      "cell_type": "code",
      "execution_count": null,
      "metadata": {
        "id": "CPXtaNDLeE4s"
      },
      "outputs": [],
      "source": [
        "np.delete(a, 0, axis = 0)"
      ]
    },
    {
      "cell_type": "code",
      "execution_count": null,
      "metadata": {
        "id": "KjhQxOg3eE4t"
      },
      "outputs": [],
      "source": [
        "np.delete(a, 1, axis = 1)"
      ]
    },
    {
      "cell_type": "code",
      "execution_count": null,
      "metadata": {
        "id": "UKYMbX5peE4t"
      },
      "outputs": [],
      "source": [
        ""
      ]
    }
  ],
  "metadata": {
    "kernelspec": {
      "display_name": "Python 3",
      "language": "python",
      "name": "python3"
    },
    "language_info": {
      "codemirror_mode": {
        "name": "ipython",
        "version": 3
      },
      "file_extension": ".py",
      "mimetype": "text/x-python",
      "name": "python",
      "nbconvert_exporter": "python",
      "pygments_lexer": "ipython3",
      "version": "3.7.3"
    },
    "colab": {
      "name": "ex_0201.ipynb",
      "provenance": []
    }
  },
  "nbformat": 4,
  "nbformat_minor": 0
}