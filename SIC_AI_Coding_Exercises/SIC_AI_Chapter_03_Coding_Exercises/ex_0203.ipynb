{
  "cells": [
    {
      "cell_type": "markdown",
      "metadata": {
        "id": "VsmNIvXqcAdZ"
      },
      "source": [
        "## Coding Exercise #0203"
      ]
    },
    {
      "cell_type": "markdown",
      "metadata": {
        "id": "VBFTxNh0cAdg"
      },
      "source": [
        "### 1. Doing linear algebra with NumPy arrays:"
      ]
    },
    {
      "cell_type": "code",
      "execution_count": 3,
      "metadata": {
        "id": "BXrX8OZCcAdh"
      },
      "outputs": [],
      "source": [
        "import numpy as np"
      ]
    },
    {
      "cell_type": "markdown",
      "metadata": {
        "id": "i8YqmZ6KcAdi"
      },
      "source": [
        "#### 1.1. Vectors:"
      ]
    },
    {
      "cell_type": "code",
      "execution_count": 5,
      "metadata": {
        "id": "mGAhFptWcAdi"
      },
      "outputs": [],
      "source": [
        "x = np.array([1, 3, 5])\n",
        "y = np.array([2, 4, 6])"
      ]
    },
    {
      "cell_type": "code",
      "execution_count": 6,
      "metadata": {
        "id": "oQk7x2kZcAdj",
        "outputId": "34be2c12-59ad-4ff4-b7e0-d036405f22ba",
        "colab": {
          "base_uri": "https://localhost:8080/"
        }
      },
      "outputs": [
        {
          "output_type": "execute_result",
          "data": {
            "text/plain": [
              "array([ 3,  7, 11])"
            ]
          },
          "metadata": {},
          "execution_count": 6
        }
      ],
      "source": [
        "x + y"
      ]
    },
    {
      "cell_type": "code",
      "execution_count": 7,
      "metadata": {
        "id": "ZeBZ77ZNcAdj",
        "outputId": "8f41b097-9162-42d0-9c7c-907cee1f9f63",
        "colab": {
          "base_uri": "https://localhost:8080/"
        }
      },
      "outputs": [
        {
          "output_type": "execute_result",
          "data": {
            "text/plain": [
              "array([-1, -1, -1])"
            ]
          },
          "metadata": {},
          "execution_count": 7
        }
      ],
      "source": [
        "x - y"
      ]
    },
    {
      "cell_type": "markdown",
      "metadata": {
        "id": "K3y3KDFccAdk"
      },
      "source": [
        "The following operations are possible in NumPy but not in linear algebra:"
      ]
    },
    {
      "cell_type": "code",
      "execution_count": 8,
      "metadata": {
        "id": "0_JG2-NscAdk",
        "outputId": "8c0c2952-8ae6-487c-d4d5-ad7d3bf4e23a",
        "colab": {
          "base_uri": "https://localhost:8080/"
        }
      },
      "outputs": [
        {
          "output_type": "execute_result",
          "data": {
            "text/plain": [
              "array([ 2, 12, 30])"
            ]
          },
          "metadata": {},
          "execution_count": 8
        }
      ],
      "source": [
        "x * y"
      ]
    },
    {
      "cell_type": "code",
      "execution_count": 9,
      "metadata": {
        "id": "3ngEXd4JcAdl",
        "outputId": "aace1106-6bba-476f-d6c5-fd470f4f464f",
        "colab": {
          "base_uri": "https://localhost:8080/"
        }
      },
      "outputs": [
        {
          "output_type": "execute_result",
          "data": {
            "text/plain": [
              "array([0.5       , 0.75      , 0.83333333])"
            ]
          },
          "metadata": {},
          "execution_count": 9
        }
      ],
      "source": [
        "x / y"
      ]
    },
    {
      "cell_type": "markdown",
      "metadata": {
        "id": "SHU8po4gcAdl"
      },
      "source": [
        "Internal product with dot():"
      ]
    },
    {
      "cell_type": "code",
      "execution_count": 10,
      "metadata": {
        "id": "kTR5zuPdcAdm",
        "outputId": "cb52e606-0b08-4f10-fd0a-ed71ce3b6c07",
        "colab": {
          "base_uri": "https://localhost:8080/"
        }
      },
      "outputs": [
        {
          "output_type": "execute_result",
          "data": {
            "text/plain": [
              "44"
            ]
          },
          "metadata": {},
          "execution_count": 10
        }
      ],
      "source": [
        "np.dot(x,y)"
      ]
    },
    {
      "cell_type": "code",
      "execution_count": 11,
      "metadata": {
        "id": "D7sFglYEcAdm",
        "outputId": "9062f07a-c0fa-4ff1-fd47-cd996c7e985e",
        "colab": {
          "base_uri": "https://localhost:8080/"
        }
      },
      "outputs": [
        {
          "output_type": "execute_result",
          "data": {
            "text/plain": [
              "44"
            ]
          },
          "metadata": {},
          "execution_count": 11
        }
      ],
      "source": [
        "x.dot(y)"
      ]
    },
    {
      "cell_type": "code",
      "execution_count": 12,
      "metadata": {
        "id": "roxgFZUMcAdm",
        "outputId": "1fccbfef-6ab6-45fa-beff-76a71354259a",
        "colab": {
          "base_uri": "https://localhost:8080/"
        }
      },
      "outputs": [
        {
          "output_type": "execute_result",
          "data": {
            "text/plain": [
              "44"
            ]
          },
          "metadata": {},
          "execution_count": 12
        }
      ],
      "source": [
        "y.dot(x)"
      ]
    },
    {
      "cell_type": "code",
      "execution_count": 13,
      "metadata": {
        "id": "13Yed_VVcAdm",
        "outputId": "798aa8fd-5954-499a-bd9c-f0e6e6b700b8",
        "colab": {
          "base_uri": "https://localhost:8080/"
        }
      },
      "outputs": [
        {
          "output_type": "execute_result",
          "data": {
            "text/plain": [
              "44"
            ]
          },
          "metadata": {},
          "execution_count": 13
        }
      ],
      "source": [
        "np.sum(x*y)"
      ]
    },
    {
      "cell_type": "markdown",
      "metadata": {
        "id": "N-6gyt6EcAdn"
      },
      "source": [
        "#### 1.2. Creating matrices:"
      ]
    },
    {
      "cell_type": "code",
      "execution_count": 14,
      "metadata": {
        "id": "MtjWp4_-cAdn",
        "outputId": "9bd96bd3-234e-4cc4-c280-f34cb2488e69",
        "colab": {
          "base_uri": "https://localhost:8080/"
        }
      },
      "outputs": [
        {
          "output_type": "execute_result",
          "data": {
            "text/plain": [
              "array([[0., 0., 0.],\n",
              "       [0., 0., 0.]])"
            ]
          },
          "metadata": {},
          "execution_count": 14
        }
      ],
      "source": [
        "np.zeros((2,3))"
      ]
    },
    {
      "cell_type": "code",
      "execution_count": 15,
      "metadata": {
        "id": "az8Q_7uOcAdn",
        "outputId": "a3f1538c-ed65-4ec2-aa2d-cf6e6c5630c4",
        "colab": {
          "base_uri": "https://localhost:8080/"
        }
      },
      "outputs": [
        {
          "output_type": "execute_result",
          "data": {
            "text/plain": [
              "array([[1., 1., 1.],\n",
              "       [1., 1., 1.]])"
            ]
          },
          "metadata": {},
          "execution_count": 15
        }
      ],
      "source": [
        "np.ones((2,3))"
      ]
    },
    {
      "cell_type": "code",
      "execution_count": 25,
      "metadata": {
        "id": "uHCzqv1scAdn",
        "outputId": "443eecba-9fae-4146-8ab0-3bf852ecca8c",
        "colab": {
          "base_uri": "https://localhost:8080/"
        }
      },
      "outputs": [
        {
          "output_type": "execute_result",
          "data": {
            "text/plain": [
              "array([[0.46622141, 0.11836775],\n",
              "       [0.07395756, 0.90077418]])"
            ]
          },
          "metadata": {},
          "execution_count": 25
        }
      ],
      "source": [
        "np.random.seed(222)\n",
        "np.random.random((2,2)) #np.random.random return random floats in the half-open interval [0.0, 1.0). "
      ]
    },
    {
      "cell_type": "code",
      "execution_count": 55,
      "metadata": {
        "id": "DOkEH2nAcAdo",
        "outputId": "925d723d-15ad-4031-8473-8e783a6d1ee0",
        "colab": {
          "base_uri": "https://localhost:8080/"
        }
      },
      "outputs": [
        {
          "output_type": "execute_result",
          "data": {
            "text/plain": [
              "array([[-1.44058512,  0.77370311],\n",
              "       [-1.02796733, -0.09098625]])"
            ]
          },
          "metadata": {},
          "execution_count": 55
        }
      ],
      "source": [
        "#np.random.seed(111)\n",
        "np.random.randn(2,2)   #Return a sample (or samples) from the “standard normal” distribution"
      ]
    },
    {
      "cell_type": "code",
      "execution_count": 57,
      "metadata": {
        "id": "3kkyBul7cAdo",
        "outputId": "e8852c39-ed97-4c9d-f6d8-273bb5652ed5",
        "colab": {
          "base_uri": "https://localhost:8080/"
        }
      },
      "outputs": [
        {
          "output_type": "execute_result",
          "data": {
            "text/plain": [
              "array([[1, 0, 0],\n",
              "       [0, 2, 0],\n",
              "       [0, 0, 3]])"
            ]
          },
          "metadata": {},
          "execution_count": 57
        }
      ],
      "source": [
        "np.diag([1,2,3]) #extract a diagonal or construct a diagonal array."
      ]
    },
    {
      "cell_type": "code",
      "source": [
        "x = np.random.randint(100, size=(3,5))\n",
        "print(x)\n",
        "np.diag(x)"
      ],
      "metadata": {
        "id": "BIi6OIu40Ff9",
        "outputId": "9dbe453d-8901-42a6-9416-ef24692654bf",
        "colab": {
          "base_uri": "https://localhost:8080/"
        }
      },
      "execution_count": 62,
      "outputs": [
        {
          "output_type": "stream",
          "name": "stdout",
          "text": [
            "[[83 69 91 58 48]\n",
            " [95  8 50 82 40]\n",
            " [ 1 33 19 24 29]]\n"
          ]
        },
        {
          "output_type": "execute_result",
          "data": {
            "text/plain": [
              "array([83,  8, 19])"
            ]
          },
          "metadata": {},
          "execution_count": 62
        }
      ]
    },
    {
      "cell_type": "markdown",
      "metadata": {
        "id": "ogQGGW5tcAdo"
      },
      "source": [
        "#### 1.3. Matrix operations:"
      ]
    },
    {
      "cell_type": "markdown",
      "metadata": {
        "id": "V0H4iRY8cAdo"
      },
      "source": [
        "Matrix addition, subtraction and multiplication:"
      ]
    },
    {
      "cell_type": "code",
      "execution_count": 4,
      "metadata": {
        "id": "pNB__x2McAdp"
      },
      "outputs": [],
      "source": [
        "m1 = np.array([[1, 2, 3],[4, 5, 6]])\n",
        "m2 = np.array([[6, 5, 4],[3, 2, 1]])"
      ]
    },
    {
      "cell_type": "code",
      "execution_count": 5,
      "metadata": {
        "id": "1FjNPYvdcAdp",
        "outputId": "1056c179-0a11-4a01-976e-f98b60bee57d",
        "colab": {
          "base_uri": "https://localhost:8080/"
        }
      },
      "outputs": [
        {
          "output_type": "execute_result",
          "data": {
            "text/plain": [
              "array([[7, 7, 7],\n",
              "       [7, 7, 7]])"
            ]
          },
          "metadata": {},
          "execution_count": 5
        }
      ],
      "source": [
        "m1 + m2"
      ]
    },
    {
      "cell_type": "code",
      "execution_count": 6,
      "metadata": {
        "id": "yFXhipA0cAdp",
        "outputId": "eee0da51-21ec-47fa-e490-bf6382c0f3eb",
        "colab": {
          "base_uri": "https://localhost:8080/"
        }
      },
      "outputs": [
        {
          "output_type": "execute_result",
          "data": {
            "text/plain": [
              "array([[-5, -3, -1],\n",
              "       [ 1,  3,  5]])"
            ]
          },
          "metadata": {},
          "execution_count": 6
        }
      ],
      "source": [
        "m1 - m2"
      ]
    },
    {
      "cell_type": "code",
      "execution_count": 7,
      "metadata": {
        "id": "cEi4Z7YacAdp",
        "outputId": "e283985b-f281-45e3-c800-43f4219eac30",
        "colab": {
          "base_uri": "https://localhost:8080/"
        }
      },
      "outputs": [
        {
          "output_type": "execute_result",
          "data": {
            "text/plain": [
              "array([[6, 3],\n",
              "       [5, 2],\n",
              "       [4, 1]])"
            ]
          },
          "metadata": {},
          "execution_count": 7
        }
      ],
      "source": [
        "np.transpose(m2)"
      ]
    },
    {
      "cell_type": "markdown",
      "metadata": {
        "id": "P8W6GpNpcAdp"
      },
      "source": [
        "Matrix multiplication with dot():"
      ]
    },
    {
      "cell_type": "code",
      "execution_count": 8,
      "metadata": {
        "id": "X-z11Wx3cAdp",
        "outputId": "84b93777-27bd-4863-8c58-3e42db4972e4",
        "colab": {
          "base_uri": "https://localhost:8080/"
        }
      },
      "outputs": [
        {
          "output_type": "execute_result",
          "data": {
            "text/plain": [
              "array([[28, 10],\n",
              "       [73, 28]])"
            ]
          },
          "metadata": {},
          "execution_count": 8
        }
      ],
      "source": [
        "np.dot(m1,np.transpose(m2))"
      ]
    },
    {
      "cell_type": "code",
      "execution_count": 13,
      "metadata": {
        "id": "zZeU6gjmcAdq",
        "outputId": "64927477-8f44-41c4-b755-6c0e5f72bee2",
        "colab": {
          "base_uri": "https://localhost:8080/"
        }
      },
      "outputs": [
        {
          "output_type": "stream",
          "name": "stdout",
          "text": [
            "[[1]\n",
            " [3]\n",
            " [5]]\n",
            " ----------\n",
            "[[2 4 6]]\n",
            "------------------\n",
            "[[1]\n",
            " [3]\n",
            " [5]]\n",
            " ----------\n",
            "[[2 4 6]]\n"
          ]
        }
      ],
      "source": [
        "x = np.array([1, 3, 5])\n",
        "y = np.array([2, 4, 6])\n",
        "x = x.reshape((3,1))\n",
        "y = y.reshape((1,3))\n",
        "print(\"{}\".format(x))\n",
        "print(\" ----------\")\n",
        "print(\"{}\".format(y))\n",
        "print(\"------------------\")\n",
        "print(x)\n",
        "print(\" ----------\")\n",
        "print(y)"
      ]
    },
    {
      "cell_type": "code",
      "execution_count": 17,
      "metadata": {
        "id": "7D03wr4ncAdq",
        "outputId": "84d4fc5e-7d00-4e13-d1d6-d1cf92aa78e8",
        "colab": {
          "base_uri": "https://localhost:8080/"
        }
      },
      "outputs": [
        {
          "output_type": "execute_result",
          "data": {
            "text/plain": [
              "44"
            ]
          },
          "metadata": {},
          "execution_count": 17
        }
      ],
      "source": [
        "y.dot(x)[0,0]"
      ]
    },
    {
      "cell_type": "code",
      "source": [
        "y.dot(x)"
      ],
      "metadata": {
        "id": "-krU-jEOp-3b",
        "outputId": "e220c43c-f61a-479d-fd0b-dbbcfc8ea60c",
        "colab": {
          "base_uri": "https://localhost:8080/"
        }
      },
      "execution_count": 18,
      "outputs": [
        {
          "output_type": "execute_result",
          "data": {
            "text/plain": [
              "array([[44]])"
            ]
          },
          "metadata": {},
          "execution_count": 18
        }
      ]
    },
    {
      "cell_type": "code",
      "execution_count": 19,
      "metadata": {
        "id": "SN2RA0kAcAdq",
        "outputId": "d0809941-fc28-467d-e7a9-16131d5c0325",
        "colab": {
          "base_uri": "https://localhost:8080/"
        }
      },
      "outputs": [
        {
          "output_type": "execute_result",
          "data": {
            "text/plain": [
              "12"
            ]
          },
          "metadata": {},
          "execution_count": 19
        }
      ],
      "source": [
        "x.dot(y)"
      ]
    },
    {
      "cell_type": "markdown",
      "metadata": {
        "id": "nqMkOrNRcAdq"
      },
      "source": [
        "The following operations are possible in NumPy but not in linear algebra:"
      ]
    },
    {
      "cell_type": "code",
      "execution_count": 23,
      "metadata": {
        "id": "-K5ZribgcAdq",
        "outputId": "ae11022b-e634-430c-9c5b-be65e6762d80",
        "colab": {
          "base_uri": "https://localhost:8080/"
        }
      },
      "outputs": [
        {
          "output_type": "stream",
          "name": "stdout",
          "text": [
            "[[1 2 3]\n",
            " [4 5 6]] \n",
            "\n",
            "[[6 5 4]\n",
            " [3 2 1]] \n",
            "\n",
            "[[ 6 10 12]\n",
            " [12 10  6]]\n"
          ]
        }
      ],
      "source": [
        "print(m1,\"\\n\")\n",
        "print(m2,\"\\n\")\n",
        "print(m1 * m2)"
      ]
    },
    {
      "cell_type": "code",
      "execution_count": 24,
      "metadata": {
        "id": "drI_6UTGcAdr",
        "outputId": "734d683b-546e-4254-baad-81ed50cd9f6b",
        "colab": {
          "base_uri": "https://localhost:8080/"
        }
      },
      "outputs": [
        {
          "output_type": "execute_result",
          "data": {
            "text/plain": [
              "array([[0.16666667, 0.4       , 0.75      ],\n",
              "       [1.33333333, 2.5       , 6.        ]])"
            ]
          },
          "metadata": {},
          "execution_count": 24
        }
      ],
      "source": [
        "m1 / m2"
      ]
    },
    {
      "cell_type": "markdown",
      "metadata": {
        "id": "HW4516hXcAdr"
      },
      "source": [
        "Operations involving matrix and scalar:"
      ]
    },
    {
      "cell_type": "code",
      "execution_count": 26,
      "metadata": {
        "id": "M7MMYQIocAdr",
        "outputId": "66b3303c-c055-47b0-e2d8-f7060e6d7de7",
        "colab": {
          "base_uri": "https://localhost:8080/"
        }
      },
      "outputs": [
        {
          "output_type": "stream",
          "name": "stdout",
          "text": [
            "[[1 2]\n",
            " [3 4]]\n"
          ]
        }
      ],
      "source": [
        "m = np.array([[1, 2],[3, 4]])\n",
        "print(m)"
      ]
    },
    {
      "cell_type": "code",
      "execution_count": 27,
      "metadata": {
        "id": "e5iuOTAAcAdr",
        "outputId": "b78ca7ea-5803-4cb3-8de9-6caafc3025ad",
        "colab": {
          "base_uri": "https://localhost:8080/"
        }
      },
      "outputs": [
        {
          "output_type": "execute_result",
          "data": {
            "text/plain": [
              "array([[ 3,  6],\n",
              "       [ 9, 12]])"
            ]
          },
          "metadata": {},
          "execution_count": 27
        }
      ],
      "source": [
        "m*3"
      ]
    },
    {
      "cell_type": "code",
      "execution_count": 28,
      "metadata": {
        "id": "zRYsa7fPcAds",
        "outputId": "8e4347f0-931e-4a40-ab5a-f931a370a50c",
        "colab": {
          "base_uri": "https://localhost:8080/"
        }
      },
      "outputs": [
        {
          "output_type": "execute_result",
          "data": {
            "text/plain": [
              "array([[0.5, 1. ],\n",
              "       [1.5, 2. ]])"
            ]
          },
          "metadata": {},
          "execution_count": 28
        }
      ],
      "source": [
        "m/2"
      ]
    },
    {
      "cell_type": "markdown",
      "metadata": {
        "id": "K5eVbAf6cAds"
      },
      "source": [
        "#### 1.4. Inverse matrix and system of linear equations:"
      ]
    },
    {
      "cell_type": "markdown",
      "metadata": {
        "id": "G5Y9yvEicAds"
      },
      "source": [
        "Calculating the inverse matrix:"
      ]
    },
    {
      "cell_type": "code",
      "execution_count": 32,
      "metadata": {
        "id": "VmWwh-jlcAdt",
        "outputId": "46f659ab-684f-44cb-8e95-da92002a8587",
        "colab": {
          "base_uri": "https://localhost:8080/"
        }
      },
      "outputs": [
        {
          "output_type": "stream",
          "name": "stdout",
          "text": [
            "[[1 2]\n",
            " [3 4]] \n",
            "\n"
          ]
        },
        {
          "output_type": "execute_result",
          "data": {
            "text/plain": [
              "array([[-2. ,  1. ],\n",
              "       [ 1.5, -0.5]])"
            ]
          },
          "metadata": {},
          "execution_count": 32
        }
      ],
      "source": [
        "m = np.array([[1, 2],[3, 4]])\n",
        "print(m,\"\\n\")\n",
        "minv = np.linalg.inv(m)   #Compute the (multiplicative) inverse of a matrix.\n",
        "                          #Given a square matrix a, return the matrix ainv satisfying dot(a, ainv) = dot(ainv, a) = eye(a.shape[0]).\n",
        "minv"
      ]
    },
    {
      "cell_type": "code",
      "execution_count": 45,
      "metadata": {
        "id": "yFOeDRmscAdt",
        "outputId": "14f726cb-1020-416f-ad93-8a13c6013a2a",
        "colab": {
          "base_uri": "https://localhost:8080/"
        }
      },
      "outputs": [
        {
          "output_type": "stream",
          "name": "stdout",
          "text": [
            "[[1.0000000e+00 0.0000000e+00]\n",
            " [8.8817842e-16 1.0000000e+00]]\n"
          ]
        }
      ],
      "source": [
        "mres = np.dot(m, minv)\n",
        "np.round(mres,2) \n",
        "print(mres)"
      ]
    },
    {
      "cell_type": "code",
      "source": [
        "mres = np.dot(minv, m)\n",
        "np.round(mres,2)"
      ],
      "metadata": {
        "id": "A-_TBy58vpnE",
        "outputId": "7a32db1c-f4d3-4310-8534-9de750a00d1a",
        "colab": {
          "base_uri": "https://localhost:8080/"
        }
      },
      "execution_count": 44,
      "outputs": [
        {
          "output_type": "execute_result",
          "data": {
            "text/plain": [
              "array([[1., 0.],\n",
              "       [0., 1.]])"
            ]
          },
          "metadata": {},
          "execution_count": 44
        }
      ]
    },
    {
      "cell_type": "markdown",
      "metadata": {
        "id": "BTm6vqllcAdu"
      },
      "source": [
        "System of linear equations (number of equations = number of unknowns):"
      ]
    },
    {
      "cell_type": "code",
      "execution_count": 46,
      "metadata": {
        "id": "eZ5UTDlgcAdu",
        "outputId": "ac890c45-74d0-4f1a-ab49-bb9ce1a7c8f1",
        "colab": {
          "base_uri": "https://localhost:8080/"
        }
      },
      "outputs": [
        {
          "output_type": "stream",
          "name": "stdout",
          "text": [
            "[[2.85714286]\n",
            " [1.96428571]]\n"
          ]
        }
      ],
      "source": [
        "A = np.array([[5, 8],[6, 4]])\n",
        "b = np.array([[30], [25]])\n",
        "Ainv = np.linalg.inv(A)\n",
        "print(np.dot(Ainv,b))"
      ]
    },
    {
      "cell_type": "code",
      "execution_count": 48,
      "metadata": {
        "id": "tK7X7XVacAdu",
        "outputId": "27b0a461-0729-4745-bfb1-3880258a131e",
        "colab": {
          "base_uri": "https://localhost:8080/"
        }
      },
      "outputs": [
        {
          "output_type": "execute_result",
          "data": {
            "text/plain": [
              "array([[2.85714286],\n",
              "       [1.96428571]])"
            ]
          },
          "metadata": {},
          "execution_count": 48
        }
      ],
      "source": [
        "np.linalg.solve(A, b)       #Solve a linear matrix equation, or system of linear scalar equations."
      ]
    },
    {
      "cell_type": "code",
      "source": [
        "a = np.array([[1, 2], [3, 5]])\n",
        "b = np.array([1, 2])\n",
        "x = x = np.linalg.solve(a, b)\n",
        "print(np.dot(a,x))"
      ],
      "metadata": {
        "id": "-45wADCv2cg_",
        "outputId": "40884045-4e63-4847-f562-41163b4972b6",
        "colab": {
          "base_uri": "https://localhost:8080/"
        }
      },
      "execution_count": 52,
      "outputs": [
        {
          "output_type": "stream",
          "name": "stdout",
          "text": [
            "[1. 2.]\n"
          ]
        }
      ]
    }
  ],
  "metadata": {
    "kernelspec": {
      "display_name": "Python 3",
      "language": "python",
      "name": "python3"
    },
    "language_info": {
      "codemirror_mode": {
        "name": "ipython",
        "version": 3
      },
      "file_extension": ".py",
      "mimetype": "text/x-python",
      "name": "python",
      "nbconvert_exporter": "python",
      "pygments_lexer": "ipython3",
      "version": "3.7.3"
    },
    "colab": {
      "name": "ex_0203.ipynb",
      "provenance": []
    }
  },
  "nbformat": 4,
  "nbformat_minor": 0
}