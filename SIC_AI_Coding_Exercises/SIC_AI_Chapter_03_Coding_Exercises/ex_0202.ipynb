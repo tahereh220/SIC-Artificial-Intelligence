{
  "cells": [
    {
      "cell_type": "markdown",
      "metadata": {
        "id": "jPp_KV4S5MJu"
      },
      "source": [
        "## Coding Exercise #0202"
      ]
    },
    {
      "cell_type": "markdown",
      "metadata": {
        "id": "L_TjZzM55MKE"
      },
      "source": [
        "### 1. NumPy array operations:"
      ]
    },
    {
      "cell_type": "markdown",
      "metadata": {
        "id": "uV3XzqQt5MKH"
      },
      "source": [
        "#### 1.1. '+' and '*' operators for Python lists:"
      ]
    },
    {
      "cell_type": "code",
      "execution_count": 2,
      "metadata": {
        "id": "tLkZikY05MKL"
      },
      "outputs": [],
      "source": [
        "import numpy as np"
      ]
    },
    {
      "cell_type": "code",
      "execution_count": 2,
      "metadata": {
        "id": "ltUz-xEl5MKP"
      },
      "outputs": [],
      "source": [
        "a = [1, 2, 3]"
      ]
    },
    {
      "cell_type": "code",
      "execution_count": 3,
      "metadata": {
        "id": "b8B8yShB5MKR",
        "outputId": "a2caeace-d600-4c6d-9dba-9ed7aae40914",
        "colab": {
          "base_uri": "https://localhost:8080/"
        }
      },
      "outputs": [
        {
          "output_type": "execute_result",
          "data": {
            "text/plain": [
              "[1, 2, 3, 1, 2, 3]"
            ]
          },
          "metadata": {},
          "execution_count": 3
        }
      ],
      "source": [
        "a + a"
      ]
    },
    {
      "cell_type": "code",
      "execution_count": 4,
      "metadata": {
        "id": "tr2CiDql5MKW",
        "outputId": "b9069f3b-1ea0-407c-f2ae-044930e81140",
        "colab": {
          "base_uri": "https://localhost:8080/"
        }
      },
      "outputs": [
        {
          "output_type": "execute_result",
          "data": {
            "text/plain": [
              "[1, 2, 3, 1, 2, 3, 1, 2, 3]"
            ]
          },
          "metadata": {},
          "execution_count": 4
        }
      ],
      "source": [
        "a*3"
      ]
    },
    {
      "cell_type": "code",
      "execution_count": 9,
      "metadata": {
        "id": "n18eUj4Q5MKZ",
        "outputId": "b4b929c7-8bec-400a-cb47-92392acdf064",
        "colab": {
          "base_uri": "https://localhost:8080/"
        }
      },
      "outputs": [
        {
          "output_type": "stream",
          "name": "stdout",
          "text": [
            "[1 2 3]\n"
          ]
        }
      ],
      "source": [
        "b = np.array([1, 2, 3])\n",
        "print(b)"
      ]
    },
    {
      "cell_type": "code",
      "execution_count": 10,
      "metadata": {
        "id": "9Kq7rYQO5MKb",
        "outputId": "ffceb6e0-091a-4fc3-dd89-bd86c750df7c",
        "colab": {
          "base_uri": "https://localhost:8080/"
        }
      },
      "outputs": [
        {
          "output_type": "execute_result",
          "data": {
            "text/plain": [
              "array([3, 6, 9])"
            ]
          },
          "metadata": {},
          "execution_count": 10
        }
      ],
      "source": [
        "b*3"
      ]
    },
    {
      "cell_type": "code",
      "execution_count": 11,
      "metadata": {
        "id": "-nrJo5eB5MKg",
        "outputId": "77b86d93-7ec2-4467-f6f2-5f0b13c9114e",
        "colab": {
          "base_uri": "https://localhost:8080/"
        }
      },
      "outputs": [
        {
          "output_type": "execute_result",
          "data": {
            "text/plain": [
              "array([2, 4, 6])"
            ]
          },
          "metadata": {},
          "execution_count": 11
        }
      ],
      "source": [
        "b + b"
      ]
    },
    {
      "cell_type": "code",
      "execution_count": 12,
      "metadata": {
        "id": "u_WRxQCY5MKl",
        "outputId": "c6257622-b33a-4295-d56c-650a33cc3974",
        "colab": {
          "base_uri": "https://localhost:8080/"
        }
      },
      "outputs": [
        {
          "output_type": "execute_result",
          "data": {
            "text/plain": [
              "array([1, 1, 1, 2, 2, 2, 3, 3, 3])"
            ]
          },
          "metadata": {},
          "execution_count": 12
        }
      ],
      "source": [
        "np.repeat(b, 3)"
      ]
    },
    {
      "cell_type": "markdown",
      "metadata": {
        "id": "_c7XWj2a5MKo"
      },
      "source": [
        "#### 1.2. '+' and '*' operators for NumPy arrays:"
      ]
    },
    {
      "cell_type": "code",
      "execution_count": 15,
      "metadata": {
        "id": "g1aixbLY5MKq"
      },
      "outputs": [],
      "source": [
        "a = np.array([1, 2, 3])\n",
        "b = np.array([4, 5, 6])"
      ]
    },
    {
      "cell_type": "code",
      "execution_count": 16,
      "metadata": {
        "id": "2UyWZq0a5MKr",
        "outputId": "2ca1f891-d6e8-41f9-be23-32aec69f85af",
        "colab": {
          "base_uri": "https://localhost:8080/"
        }
      },
      "outputs": [
        {
          "output_type": "execute_result",
          "data": {
            "text/plain": [
              "array([5, 7, 9])"
            ]
          },
          "metadata": {},
          "execution_count": 16
        }
      ],
      "source": [
        "a+b"
      ]
    },
    {
      "cell_type": "code",
      "execution_count": 17,
      "metadata": {
        "id": "H4uI-r1R5MKt",
        "outputId": "478ae103-7713-40ba-c2be-6f96b72361f1",
        "colab": {
          "base_uri": "https://localhost:8080/"
        }
      },
      "outputs": [
        {
          "output_type": "execute_result",
          "data": {
            "text/plain": [
              "array([-3, -3, -3])"
            ]
          },
          "metadata": {},
          "execution_count": 17
        }
      ],
      "source": [
        "a-b"
      ]
    },
    {
      "cell_type": "code",
      "execution_count": 18,
      "metadata": {
        "id": "bP_p5r8Z5MKu",
        "outputId": "311ca044-dee9-448d-9a0b-836771c17444",
        "colab": {
          "base_uri": "https://localhost:8080/"
        }
      },
      "outputs": [
        {
          "output_type": "execute_result",
          "data": {
            "text/plain": [
              "array([ 4, 10, 18])"
            ]
          },
          "metadata": {},
          "execution_count": 18
        }
      ],
      "source": [
        "a*b"
      ]
    },
    {
      "cell_type": "code",
      "execution_count": 19,
      "metadata": {
        "id": "0Hg4AsAy5MKv",
        "outputId": "621f4e5b-fe96-4f42-c386-1990a555e660",
        "colab": {
          "base_uri": "https://localhost:8080/"
        }
      },
      "outputs": [
        {
          "output_type": "execute_result",
          "data": {
            "text/plain": [
              "array([0.25, 0.4 , 0.5 ])"
            ]
          },
          "metadata": {},
          "execution_count": 19
        }
      ],
      "source": [
        "1.0*a/b"
      ]
    },
    {
      "cell_type": "markdown",
      "metadata": {
        "id": "t0AgZmyx5MKy"
      },
      "source": [
        "#### 1.3. Universal functions:"
      ]
    },
    {
      "cell_type": "code",
      "execution_count": 20,
      "metadata": {
        "id": "QxgJJVGw5MK1"
      },
      "outputs": [],
      "source": [
        "x = np.array([0, 1, 2, 3, 4, 5])"
      ]
    },
    {
      "cell_type": "code",
      "execution_count": 21,
      "metadata": {
        "id": "W6osjN1a5MK4",
        "outputId": "41d78657-d794-4c87-c374-cd3b5709f3d7",
        "colab": {
          "base_uri": "https://localhost:8080/"
        }
      },
      "outputs": [
        {
          "output_type": "execute_result",
          "data": {
            "text/plain": [
              "array([0.        , 1.        , 1.41421356, 1.73205081, 2.        ,\n",
              "       2.23606798])"
            ]
          },
          "metadata": {},
          "execution_count": 21
        }
      ],
      "source": [
        "np.sqrt(x)"
      ]
    },
    {
      "cell_type": "code",
      "execution_count": 22,
      "metadata": {
        "id": "mw4EhO2I5MK-",
        "outputId": "bf1a1546-e494-401b-e752-837f75c3becf",
        "colab": {
          "base_uri": "https://localhost:8080/"
        }
      },
      "outputs": [
        {
          "output_type": "execute_result",
          "data": {
            "text/plain": [
              "array([  1.        ,   2.71828183,   7.3890561 ,  20.08553692,\n",
              "        54.59815003, 148.4131591 ])"
            ]
          },
          "metadata": {},
          "execution_count": 22
        }
      ],
      "source": [
        "np.exp(x)"
      ]
    },
    {
      "cell_type": "code",
      "execution_count": 23,
      "metadata": {
        "id": "NhoTAPfe5MK_",
        "outputId": "7e279645-681b-4585-c011-f7a01e4dc282",
        "colab": {
          "base_uri": "https://localhost:8080/"
        }
      },
      "outputs": [
        {
          "output_type": "execute_result",
          "data": {
            "text/plain": [
              "numpy.ufunc"
            ]
          },
          "metadata": {},
          "execution_count": 23
        }
      ],
      "source": [
        "type(np.sqrt)"
      ]
    },
    {
      "cell_type": "code",
      "execution_count": 24,
      "metadata": {
        "id": "t08r5PYI5MLA",
        "outputId": "c6136863-5f20-4e19-e538-5dfda2e53663",
        "colab": {
          "base_uri": "https://localhost:8080/"
        }
      },
      "outputs": [
        {
          "output_type": "execute_result",
          "data": {
            "text/plain": [
              "numpy.ufunc"
            ]
          },
          "metadata": {},
          "execution_count": 24
        }
      ],
      "source": [
        "type(np.exp)"
      ]
    },
    {
      "cell_type": "markdown",
      "metadata": {
        "id": "BiPtcdfU5MLB"
      },
      "source": [
        "#### 1.4. NumPy functions:"
      ]
    },
    {
      "cell_type": "code",
      "execution_count": 3,
      "metadata": {
        "id": "GrfGoQl25MLE",
        "outputId": "f697d28f-43ec-4300-e9a2-b13322991deb",
        "colab": {
          "base_uri": "https://localhost:8080/"
        }
      },
      "outputs": [
        {
          "output_type": "stream",
          "name": "stdout",
          "text": [
            "[220 421 376  10 351 207 354   9 457 183 277 197 476 113 461  35 413 320\n",
            "  85 411 230 233 350 132 352  85 129 264  57 372 265 156  77 363  94 286\n",
            " 335 358 213 262 425 111 459  61 246 173  76 389 458 182 466 438 237 124\n",
            " 410 441 353 141 425 127   8 419 491 237 255 455  13 433  43 434 451 172\n",
            " 150  37  95 136 336  55 408 161 170 147 337 258  68 234  65 196 164 190\n",
            " 449 106 169 159  78 407 295 252 353 464]\n"
          ]
        }
      ],
      "source": [
        "#np.random.seed(123)\n",
        "a = np.random.randint(1, 500, size=100)\n",
        "print(a)"
      ]
    },
    {
      "cell_type": "code",
      "execution_count": 4,
      "metadata": {
        "id": "iH_lOWcI5MLH",
        "outputId": "d9863cf1-61b1-4237-d790-9f9fd4191031",
        "colab": {
          "base_uri": "https://localhost:8080/"
        }
      },
      "outputs": [
        {
          "output_type": "execute_result",
          "data": {
            "text/plain": [
              "96"
            ]
          },
          "metadata": {},
          "execution_count": 4
        }
      ],
      "source": [
        "len(np.unique(a))"
      ]
    },
    {
      "cell_type": "code",
      "execution_count": 5,
      "metadata": {
        "id": "1UOThZ_s5MLL",
        "outputId": "16a36e71-9e4e-413b-b822-8a2cfc609be7",
        "colab": {
          "base_uri": "https://localhost:8080/"
        }
      },
      "outputs": [
        {
          "output_type": "execute_result",
          "data": {
            "text/plain": [
              "237.0"
            ]
          },
          "metadata": {},
          "execution_count": 5
        }
      ],
      "source": [
        "np.median(a) #The median is the middle number in a sorted, ascending or descending, list of numbers "
      ]
    },
    {
      "cell_type": "code",
      "source": [
        "np.sort(a)\n",
        "print(a)"
      ],
      "metadata": {
        "id": "d928yoB1kF8l",
        "outputId": "d53c4ef7-0407-45d1-9558-1e31b1f47ff5",
        "colab": {
          "base_uri": "https://localhost:8080/"
        }
      },
      "execution_count": 6,
      "outputs": [
        {
          "output_type": "stream",
          "name": "stdout",
          "text": [
            "[220 421 376  10 351 207 354   9 457 183 277 197 476 113 461  35 413 320\n",
            "  85 411 230 233 350 132 352  85 129 264  57 372 265 156  77 363  94 286\n",
            " 335 358 213 262 425 111 459  61 246 173  76 389 458 182 466 438 237 124\n",
            " 410 441 353 141 425 127   8 419 491 237 255 455  13 433  43 434 451 172\n",
            " 150  37  95 136 336  55 408 161 170 147 337 258  68 234  65 196 164 190\n",
            " 449 106 169 159  78 407 295 252 353 464]\n"
          ]
        }
      ]
    },
    {
      "cell_type": "code",
      "execution_count": 7,
      "metadata": {
        "id": "hSctRmtD5MLN",
        "outputId": "a230cc03-eeb2-4f76-87bb-8c4984e551b0",
        "colab": {
          "base_uri": "https://localhost:8080/"
        }
      },
      "outputs": [
        {
          "output_type": "execute_result",
          "data": {
            "text/plain": [
              "25081"
            ]
          },
          "metadata": {},
          "execution_count": 7
        }
      ],
      "source": [
        "np.sum(a)"
      ]
    },
    {
      "cell_type": "code",
      "execution_count": 9,
      "metadata": {
        "id": "kb0ELCUz5MLR",
        "outputId": "35d93344-c055-4f71-a19b-d57fe6ce0ed3",
        "colab": {
          "base_uri": "https://localhost:8080/"
        }
      },
      "outputs": [
        {
          "output_type": "execute_result",
          "data": {
            "text/plain": [
              "20337.07"
            ]
          },
          "metadata": {},
          "execution_count": 9
        }
      ],
      "source": [
        "#variance is the expectation of the squared deviation of a random variable from its population mean or sample mean\n",
        "np.round(np.var(a),2)   #Compute the variance along the specified axis."
      ]
    },
    {
      "cell_type": "code",
      "execution_count": 10,
      "metadata": {
        "id": "y4O9Sy-t5MLX",
        "outputId": "2cf4ff5d-2a6f-4e5a-d9d3-8abd7f2d9d00",
        "colab": {
          "base_uri": "https://localhost:8080/"
        }
      },
      "outputs": [
        {
          "output_type": "execute_result",
          "data": {
            "text/plain": [
              "250.81"
            ]
          },
          "metadata": {},
          "execution_count": 10
        }
      ],
      "source": [
        "np.round(np.mean(a),2)    #Average"
      ]
    },
    {
      "cell_type": "code",
      "execution_count": 11,
      "metadata": {
        "id": "m81avtxJ5MLY",
        "outputId": "4ba6c78f-9d2b-4908-8212-7f59e514bc21",
        "colab": {
          "base_uri": "https://localhost:8080/"
        }
      },
      "outputs": [
        {
          "output_type": "execute_result",
          "data": {
            "text/plain": [
              "142.61"
            ]
          },
          "metadata": {},
          "execution_count": 11
        }
      ],
      "source": [
        "np.round(np.std(a),2) #Compute the standard deviation along the specified axis."
      ]
    },
    {
      "cell_type": "code",
      "execution_count": 12,
      "metadata": {
        "id": "LcXG0wRn5MLf",
        "outputId": "8be24c22-084a-4a96-a4cf-936ec8fcffd5",
        "colab": {
          "base_uri": "https://localhost:8080/"
        }
      },
      "outputs": [
        {
          "output_type": "execute_result",
          "data": {
            "text/plain": [
              "491"
            ]
          },
          "metadata": {},
          "execution_count": 12
        }
      ],
      "source": [
        "np.max(a)"
      ]
    },
    {
      "cell_type": "code",
      "execution_count": 13,
      "metadata": {
        "id": "9tLSe5Dq5MLk",
        "outputId": "8656a596-c698-45f8-df96-34958081825f",
        "colab": {
          "base_uri": "https://localhost:8080/"
        }
      },
      "outputs": [
        {
          "output_type": "execute_result",
          "data": {
            "text/plain": [
              "8"
            ]
          },
          "metadata": {},
          "execution_count": 13
        }
      ],
      "source": [
        "np.min(a)"
      ]
    },
    {
      "cell_type": "markdown",
      "metadata": {
        "id": "AmBfdk7c5MLn"
      },
      "source": [
        "#### 1.5. Statistical methods of NumPy arrays:"
      ]
    },
    {
      "cell_type": "code",
      "execution_count": 22,
      "metadata": {
        "id": "V-opWvHV5MLp",
        "outputId": "30b1f10a-96b6-4f25-c21c-fb93674721e0",
        "colab": {
          "base_uri": "https://localhost:8080/"
        }
      },
      "outputs": [
        {
          "output_type": "execute_result",
          "data": {
            "text/plain": [
              "array([ 1,  2,  3,  4,  5,  6,  7,  8,  9, 10])"
            ]
          },
          "metadata": {},
          "execution_count": 22
        }
      ],
      "source": [
        "x=np.arange(1,11)\n",
        "x"
      ]
    },
    {
      "cell_type": "code",
      "execution_count": 16,
      "metadata": {
        "id": "Qg38HdTs5MLs",
        "outputId": "d1beaee6-a5aa-4db9-a4dc-62a3a7796b94",
        "colab": {
          "base_uri": "https://localhost:8080/"
        }
      },
      "outputs": [
        {
          "output_type": "execute_result",
          "data": {
            "text/plain": [
              "55"
            ]
          },
          "metadata": {},
          "execution_count": 16
        }
      ],
      "source": [
        "x.sum()"
      ]
    },
    {
      "cell_type": "code",
      "execution_count": 17,
      "metadata": {
        "id": "RG3uNbNO5MLw",
        "outputId": "952cd57b-c405-484a-9573-68e02fccf545",
        "colab": {
          "base_uri": "https://localhost:8080/"
        }
      },
      "outputs": [
        {
          "output_type": "execute_result",
          "data": {
            "text/plain": [
              "5.5"
            ]
          },
          "metadata": {},
          "execution_count": 17
        }
      ],
      "source": [
        "x.mean()"
      ]
    },
    {
      "cell_type": "code",
      "execution_count": 18,
      "metadata": {
        "id": "Hoisn7w-5MLx",
        "outputId": "8a096ee4-2577-4b8f-b80b-3963bfab4f3a",
        "colab": {
          "base_uri": "https://localhost:8080/"
        }
      },
      "outputs": [
        {
          "output_type": "execute_result",
          "data": {
            "text/plain": [
              "2.8722813232690143"
            ]
          },
          "metadata": {},
          "execution_count": 18
        }
      ],
      "source": [
        "x.std()"
      ]
    },
    {
      "cell_type": "code",
      "execution_count": 19,
      "metadata": {
        "id": "u05rIolM5MLz",
        "outputId": "f0e5921d-0cf6-4777-bcc8-249d8dac121d",
        "colab": {
          "base_uri": "https://localhost:8080/"
        }
      },
      "outputs": [
        {
          "output_type": "execute_result",
          "data": {
            "text/plain": [
              "8.25"
            ]
          },
          "metadata": {},
          "execution_count": 19
        }
      ],
      "source": [
        "x.var()"
      ]
    },
    {
      "cell_type": "code",
      "execution_count": 20,
      "metadata": {
        "id": "P6XW4x1H5ML2",
        "outputId": "5474d9a4-18a2-4ff5-8a50-1b0022681d5a",
        "colab": {
          "base_uri": "https://localhost:8080/"
        }
      },
      "outputs": [
        {
          "output_type": "execute_result",
          "data": {
            "text/plain": [
              "array([ 1,  3,  6, 10, 15, 21, 28, 36, 45, 55])"
            ]
          },
          "metadata": {},
          "execution_count": 20
        }
      ],
      "source": [
        "x.cumsum()    #Return the cumulative sum of the elements along a given axis."
      ]
    },
    {
      "cell_type": "code",
      "execution_count": 25,
      "metadata": {
        "id": "p358CEn05MMH",
        "outputId": "b8adce26-256e-47c5-9f8e-282501fcc81b",
        "colab": {
          "base_uri": "https://localhost:8080/"
        }
      },
      "outputs": [
        {
          "output_type": "stream",
          "name": "stdout",
          "text": [
            "[[ 1  2  3  4]\n",
            " [ 5  6  7  8]\n",
            " [ 9 10 11 12]]\n"
          ]
        }
      ],
      "source": [
        "y = np.arange(1,13)\n",
        "y = y.reshape((3,-1))\n",
        "print(y)"
      ]
    },
    {
      "cell_type": "code",
      "execution_count": 26,
      "metadata": {
        "id": "l8rtVfuU5MMK",
        "outputId": "44a924a9-505e-47e6-ab1e-218d311bf847",
        "colab": {
          "base_uri": "https://localhost:8080/"
        }
      },
      "outputs": [
        {
          "output_type": "stream",
          "name": "stdout",
          "text": [
            "[5. 6. 7. 8.]\n"
          ]
        }
      ],
      "source": [
        "print(y.mean(axis=0))"
      ]
    },
    {
      "cell_type": "code",
      "execution_count": 27,
      "metadata": {
        "id": "yeN1B7d65MMP",
        "outputId": "587571c3-30fc-4493-e68f-4f14c10385ad",
        "colab": {
          "base_uri": "https://localhost:8080/"
        }
      },
      "outputs": [
        {
          "output_type": "stream",
          "name": "stdout",
          "text": [
            "[ 2.5  6.5 10.5]\n"
          ]
        }
      ],
      "source": [
        "print(y.mean(axis=1))"
      ]
    },
    {
      "cell_type": "code",
      "execution_count": 41,
      "metadata": {
        "id": "WpT9iuHU5MMQ"
      },
      "outputs": [],
      "source": [
        "z = np.random.randint(10,size=1000)"
      ]
    },
    {
      "cell_type": "code",
      "execution_count": 29,
      "metadata": {
        "id": "KEm8oxLB5MMa",
        "outputId": "ac1306b0-eb3a-4c01-97b7-f460656acdc5",
        "colab": {
          "base_uri": "https://localhost:8080/"
        }
      },
      "outputs": [
        {
          "output_type": "execute_result",
          "data": {
            "text/plain": [
              "9"
            ]
          },
          "metadata": {},
          "execution_count": 29
        }
      ],
      "source": [
        "z.max()"
      ]
    },
    {
      "cell_type": "code",
      "execution_count": 32,
      "metadata": {
        "id": "QRXeShmW5MMb",
        "outputId": "5ff457ec-ed7a-4ebc-f395-f9960ae296d5",
        "colab": {
          "base_uri": "https://localhost:8080/"
        }
      },
      "outputs": [
        {
          "output_type": "execute_result",
          "data": {
            "text/plain": [
              "0"
            ]
          },
          "metadata": {},
          "execution_count": 32
        }
      ],
      "source": [
        "z.min()"
      ]
    },
    {
      "cell_type": "code",
      "source": [
        "a = [z>5]\n",
        "a"
      ],
      "metadata": {
        "id": "27YBtmq2abf5",
        "outputId": "b8083fa0-9f1e-4687-e9d3-242039c7d713",
        "colab": {
          "base_uri": "https://localhost:8080/"
        }
      },
      "execution_count": 39,
      "outputs": [
        {
          "output_type": "execute_result",
          "data": {
            "text/plain": [
              "[array([False,  True, False, False,  True,  True, False,  True, False,\n",
              "         True, False, False, False, False,  True, False,  True, False,\n",
              "        False, False, False,  True, False,  True, False,  True,  True,\n",
              "         True,  True, False,  True, False, False, False,  True, False,\n",
              "        False, False,  True,  True, False,  True,  True,  True,  True,\n",
              "         True, False,  True,  True, False,  True, False,  True, False,\n",
              "        False, False,  True, False,  True, False, False,  True, False,\n",
              "         True,  True,  True,  True, False, False, False, False,  True,\n",
              "        False,  True,  True,  True,  True, False, False, False, False,\n",
              "        False, False, False,  True, False, False, False, False,  True,\n",
              "        False,  True, False, False, False,  True, False,  True, False,\n",
              "        False,  True,  True,  True,  True,  True, False, False,  True,\n",
              "        False,  True, False,  True, False, False, False, False, False,\n",
              "        False, False,  True,  True,  True, False, False,  True,  True,\n",
              "        False, False, False,  True, False, False,  True,  True,  True,\n",
              "        False, False,  True,  True,  True, False, False, False,  True,\n",
              "         True, False,  True,  True,  True, False,  True, False, False,\n",
              "        False, False, False, False, False,  True, False, False,  True,\n",
              "        False,  True, False, False, False,  True,  True,  True, False,\n",
              "        False, False, False, False, False, False,  True, False,  True,\n",
              "         True, False,  True, False, False,  True,  True, False,  True,\n",
              "        False,  True, False, False, False, False, False,  True,  True,\n",
              "         True,  True,  True, False, False, False,  True, False, False,\n",
              "         True, False,  True, False, False,  True,  True,  True, False,\n",
              "        False, False, False, False, False,  True,  True, False, False,\n",
              "        False, False, False, False, False,  True, False, False,  True,\n",
              "         True,  True,  True,  True,  True,  True, False, False,  True,\n",
              "        False, False, False, False, False,  True,  True, False, False,\n",
              "         True, False, False, False, False, False,  True, False,  True,\n",
              "        False, False, False,  True, False, False,  True, False, False,\n",
              "        False,  True, False, False, False, False,  True, False,  True,\n",
              "        False, False, False,  True, False,  True, False, False, False,\n",
              "        False, False,  True,  True,  True,  True,  True,  True, False,\n",
              "         True,  True, False, False,  True,  True, False, False,  True,\n",
              "         True,  True, False, False,  True,  True, False,  True,  True,\n",
              "         True,  True, False, False, False, False,  True, False, False,\n",
              "         True, False,  True,  True, False, False,  True, False,  True,\n",
              "        False,  True,  True, False,  True,  True,  True,  True, False,\n",
              "         True, False,  True, False,  True, False, False, False,  True,\n",
              "        False, False, False, False,  True,  True, False,  True,  True,\n",
              "         True, False,  True, False, False,  True, False, False,  True,\n",
              "        False,  True, False, False,  True, False,  True,  True, False,\n",
              "        False, False, False,  True, False,  True, False, False, False,\n",
              "        False, False, False,  True, False, False, False,  True,  True,\n",
              "        False, False, False, False,  True, False, False, False,  True,\n",
              "        False, False, False, False, False,  True,  True, False, False,\n",
              "         True, False,  True,  True, False, False,  True, False,  True,\n",
              "         True, False,  True, False, False,  True,  True,  True, False,\n",
              "         True, False, False,  True,  True,  True, False, False, False,\n",
              "         True, False, False, False,  True,  True,  True, False, False,\n",
              "         True, False, False, False, False, False, False, False, False,\n",
              "        False, False, False, False, False,  True,  True,  True, False,\n",
              "         True, False,  True,  True, False, False, False, False, False,\n",
              "        False,  True,  True, False, False, False, False,  True, False,\n",
              "        False, False, False, False,  True, False, False,  True, False,\n",
              "        False, False,  True, False,  True, False, False,  True, False,\n",
              "        False, False,  True,  True, False,  True, False,  True,  True,\n",
              "        False,  True, False, False, False, False,  True,  True, False,\n",
              "         True,  True, False, False,  True,  True, False, False, False,\n",
              "        False,  True, False, False, False,  True, False,  True, False,\n",
              "        False, False, False, False,  True,  True,  True,  True,  True,\n",
              "        False,  True,  True,  True, False, False,  True, False, False,\n",
              "         True, False,  True, False,  True, False, False, False, False,\n",
              "         True,  True,  True,  True, False, False,  True,  True, False,\n",
              "         True,  True, False,  True, False,  True, False, False, False,\n",
              "         True,  True, False,  True,  True,  True, False, False,  True,\n",
              "         True, False,  True, False, False,  True, False, False,  True,\n",
              "        False,  True,  True, False, False,  True,  True, False,  True,\n",
              "         True, False, False, False,  True, False,  True,  True, False,\n",
              "         True, False,  True, False, False, False,  True, False, False,\n",
              "         True, False, False, False, False,  True, False, False,  True,\n",
              "        False,  True, False, False,  True,  True,  True, False,  True,\n",
              "         True,  True,  True, False,  True, False, False, False,  True,\n",
              "         True,  True,  True, False,  True,  True,  True, False, False,\n",
              "        False,  True, False,  True, False, False,  True, False, False,\n",
              "        False, False,  True, False,  True,  True, False, False,  True,\n",
              "        False, False, False, False,  True, False,  True, False,  True,\n",
              "        False, False, False,  True, False,  True, False, False,  True,\n",
              "         True, False,  True,  True, False, False,  True, False,  True,\n",
              "         True,  True, False, False,  True, False,  True,  True,  True,\n",
              "        False, False,  True, False,  True,  True,  True,  True,  True,\n",
              "         True, False, False,  True,  True,  True, False, False, False,\n",
              "         True, False, False, False,  True,  True,  True, False,  True,\n",
              "         True, False, False,  True, False, False, False, False, False,\n",
              "        False,  True, False, False, False,  True,  True,  True, False,\n",
              "         True, False, False, False, False, False,  True,  True, False,\n",
              "        False, False, False, False, False,  True, False, False, False,\n",
              "        False, False,  True,  True, False,  True, False, False, False,\n",
              "        False, False, False, False, False,  True,  True, False, False,\n",
              "        False, False,  True, False, False, False, False, False,  True,\n",
              "        False, False,  True, False, False,  True, False, False, False,\n",
              "        False, False, False, False, False, False, False, False,  True,\n",
              "        False,  True, False,  True,  True, False, False, False, False,\n",
              "         True,  True,  True, False,  True,  True, False,  True, False,\n",
              "         True, False,  True,  True, False,  True,  True, False, False,\n",
              "        False, False, False, False,  True, False,  True, False,  True,\n",
              "         True,  True, False, False, False,  True, False,  True, False,\n",
              "        False, False, False,  True,  True,  True,  True,  True, False,\n",
              "         True, False, False, False, False, False, False, False,  True,\n",
              "         True, False, False, False, False, False,  True, False, False,\n",
              "         True, False, False, False,  True, False, False, False,  True,\n",
              "         True, False, False, False,  True,  True, False, False,  True,\n",
              "         True, False, False,  True, False,  True,  True, False,  True,\n",
              "         True, False,  True, False, False,  True, False,  True,  True,\n",
              "         True, False, False, False,  True, False, False, False,  True,\n",
              "         True,  True, False,  True, False, False,  True,  True,  True,\n",
              "        False, False,  True,  True, False, False, False,  True, False,\n",
              "         True, False, False, False,  True, False,  True, False, False,\n",
              "        False,  True,  True, False, False, False,  True, False, False,\n",
              "        False, False, False, False, False,  True,  True, False, False,\n",
              "         True,  True,  True,  True, False,  True, False, False, False,\n",
              "        False])]"
            ]
          },
          "metadata": {},
          "execution_count": 39
        }
      ]
    },
    {
      "cell_type": "code",
      "execution_count": 36,
      "metadata": {
        "id": "K_a9QIjE5MMd",
        "outputId": "9004bb75-00e7-42e6-c809-31f4c5bd1b24",
        "colab": {
          "base_uri": "https://localhost:8080/"
        }
      },
      "outputs": [
        {
          "output_type": "execute_result",
          "data": {
            "text/plain": [
              "415"
            ]
          },
          "metadata": {},
          "execution_count": 36
        }
      ],
      "source": [
        "(z > 5).sum()\n",
        "#print(True+True+True+True+False+False+False+False)"
      ]
    },
    {
      "cell_type": "code",
      "execution_count": 42,
      "metadata": {
        "id": "AJpItkK85MMl",
        "outputId": "7c82d369-0503-4e50-cc54-9ca591291e4c",
        "colab": {
          "base_uri": "https://localhost:8080/"
        }
      },
      "outputs": [
        {
          "output_type": "execute_result",
          "data": {
            "text/plain": [
              "array([0, 1, 2, 3, 4, 5, 6, 7, 8, 9])"
            ]
          },
          "metadata": {},
          "execution_count": 42
        }
      ],
      "source": [
        "np.unique(z)"
      ]
    },
    {
      "cell_type": "code",
      "execution_count": 45,
      "metadata": {
        "id": "_unjLQ2X5MMm",
        "outputId": "ef95e66d-2fc4-4de7-f5a1-b101340f0363",
        "colab": {
          "base_uri": "https://localhost:8080/"
        }
      },
      "outputs": [
        {
          "output_type": "execute_result",
          "data": {
            "text/plain": [
              "[0, 1, 2, 3, 4, 5, 6, 7, 8, 9]"
            ]
          },
          "metadata": {},
          "execution_count": 45
        }
      ],
      "source": [
        "sorted(set(z))"
      ]
    },
    {
      "cell_type": "code",
      "execution_count": 46,
      "metadata": {
        "id": "7iXZTmvd5MMn"
      },
      "outputs": [],
      "source": [
        "a = np.array([2,-3,4,5,7,0,1,-1])"
      ]
    },
    {
      "cell_type": "code",
      "execution_count": 47,
      "metadata": {
        "id": "xPGDRrna5MMo",
        "outputId": "3dbaf886-ded6-4a28-a6b6-e5354fb89cfa",
        "colab": {
          "base_uri": "https://localhost:8080/"
        }
      },
      "outputs": [
        {
          "output_type": "execute_result",
          "data": {
            "text/plain": [
              "4"
            ]
          },
          "metadata": {},
          "execution_count": 47
        }
      ],
      "source": [
        "a.argmax()"
      ]
    },
    {
      "cell_type": "code",
      "execution_count": 48,
      "metadata": {
        "id": "0z6SRGZh5MMq",
        "outputId": "375acaff-2f10-48bc-8d41-6a97dc089b00",
        "colab": {
          "base_uri": "https://localhost:8080/"
        }
      },
      "outputs": [
        {
          "output_type": "execute_result",
          "data": {
            "text/plain": [
              "1"
            ]
          },
          "metadata": {},
          "execution_count": 48
        }
      ],
      "source": [
        "a.argmin()"
      ]
    },
    {
      "cell_type": "code",
      "execution_count": null,
      "metadata": {
        "id": "8xeOq1-N5MMr"
      },
      "outputs": [],
      "source": [
        ""
      ]
    }
  ],
  "metadata": {
    "kernelspec": {
      "display_name": "Python 3",
      "language": "python",
      "name": "python3"
    },
    "language_info": {
      "codemirror_mode": {
        "name": "ipython",
        "version": 3
      },
      "file_extension": ".py",
      "mimetype": "text/x-python",
      "name": "python",
      "nbconvert_exporter": "python",
      "pygments_lexer": "ipython3",
      "version": "3.7.3"
    },
    "colab": {
      "name": "ex_0202.ipynb",
      "provenance": []
    }
  },
  "nbformat": 4,
  "nbformat_minor": 0
}