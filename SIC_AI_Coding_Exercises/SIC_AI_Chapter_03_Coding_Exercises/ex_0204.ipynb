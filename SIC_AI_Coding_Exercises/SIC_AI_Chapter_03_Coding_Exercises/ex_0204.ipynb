{
  "cells": [
    {
      "cell_type": "markdown",
      "metadata": {
        "id": "fmvkbZ493FG4"
      },
      "source": [
        "## Coding Exercise #0204"
      ]
    },
    {
      "cell_type": "markdown",
      "metadata": {
        "id": "L9AMLs4K3FG9"
      },
      "source": [
        "### 1. Pandas Series:"
      ]
    },
    {
      "cell_type": "code",
      "execution_count": 1,
      "metadata": {
        "id": "4FJ6hOA33FG-"
      },
      "outputs": [],
      "source": [
        "import pandas as pd\n",
        "import numpy as np"
      ]
    },
    {
      "cell_type": "markdown",
      "metadata": {
        "id": "wJ0hP0c73FHA"
      },
      "source": [
        "#### 1.1. Creating Series objects:"
      ]
    },
    {
      "cell_type": "code",
      "execution_count": 4,
      "metadata": {
        "id": "X_4VH7Bg3FHA",
        "outputId": "b6b92ced-0b44-414e-9b3c-b576fa368baf",
        "colab": {
          "base_uri": "https://localhost:8080/"
        }
      },
      "outputs": [
        {
          "output_type": "stream",
          "name": "stdout",
          "text": [
            "my_index = \n",
            " ['a', 'b', 'c']\n",
            "\n",
            "my_values = \n",
            " [222, 333, 444]\n",
            "\n",
            "my_dict = \n",
            " {'a': 222, 'b': 333, 'c': 444}\n",
            "\n",
            "my_arr = \n",
            " [222 333 444]\n"
          ]
        }
      ],
      "source": [
        "my_index = ['a','b','c']\n",
        "my_values = [222,333,444]\n",
        "my_dict = {'a':222, 'b':333, 'c':444}\n",
        "my_arr = np.array(my_values)\n",
        "print(\"my_index = \\n\", my_index)\n",
        "print(\"\\nmy_values = \\n\", my_values)\n",
        "print(\"\\nmy_dict = \\n\", my_dict)\n",
        "print(\"\\nmy_arr = \\n\", my_arr)\n"
      ]
    },
    {
      "cell_type": "code",
      "execution_count": 5,
      "metadata": {
        "id": "6ulpkrZm3FHA",
        "outputId": "eb0d8109-f5bc-48f0-a080-26370c3802f0",
        "colab": {
          "base_uri": "https://localhost:8080/"
        }
      },
      "outputs": [
        {
          "output_type": "execute_result",
          "data": {
            "text/plain": [
              "0    222\n",
              "1    333\n",
              "2    444\n",
              "dtype: int64"
            ]
          },
          "metadata": {},
          "execution_count": 5
        }
      ],
      "source": [
        "# Series with values.\n",
        "pd.Series(my_values)      #It is a column with index"
      ]
    },
    {
      "cell_type": "code",
      "execution_count": 9,
      "metadata": {
        "id": "_iuc9_q43FHB",
        "outputId": "4e53f2ce-724c-4ace-b5e2-8751353e05b4",
        "colab": {
          "base_uri": "https://localhost:8080/"
        }
      },
      "outputs": [
        {
          "output_type": "execute_result",
          "data": {
            "text/plain": [
              "a    222\n",
              "b    333\n",
              "c    444\n",
              "dtype: int64"
            ]
          },
          "metadata": {},
          "execution_count": 9
        }
      ],
      "source": [
        "# Series with values and index labels.\n",
        "pd.Series(data=my_values, index=my_index)"
      ]
    },
    {
      "cell_type": "code",
      "execution_count": 7,
      "metadata": {
        "id": "8_MOjwLf3FHC",
        "outputId": "50e924b8-5730-49be-cc04-6ed2db1a1d24",
        "colab": {
          "base_uri": "https://localhost:8080/"
        }
      },
      "outputs": [
        {
          "output_type": "execute_result",
          "data": {
            "text/plain": [
              "0    222\n",
              "1    333\n",
              "2    444\n",
              "dtype: int64"
            ]
          },
          "metadata": {},
          "execution_count": 7
        }
      ],
      "source": [
        "# Series from a NumPy array.\n",
        "pd.Series(my_arr)"
      ]
    },
    {
      "cell_type": "code",
      "execution_count": 8,
      "metadata": {
        "id": "xchGnth_3FHC",
        "outputId": "1209fc72-26c1-4bac-aebc-09499829ebed",
        "colab": {
          "base_uri": "https://localhost:8080/"
        }
      },
      "outputs": [
        {
          "output_type": "execute_result",
          "data": {
            "text/plain": [
              "a    222\n",
              "b    333\n",
              "c    444\n",
              "dtype: int64"
            ]
          },
          "metadata": {},
          "execution_count": 8
        }
      ],
      "source": [
        "# Series from a NumPy array with index labels.\n",
        "pd.Series(my_arr, index=my_index)"
      ]
    },
    {
      "cell_type": "code",
      "execution_count": 11,
      "metadata": {
        "id": "vdpDAX2M3FHE",
        "outputId": "ef74978c-cf60-439c-88b0-c5fa33fff11b",
        "colab": {
          "base_uri": "https://localhost:8080/"
        }
      },
      "outputs": [
        {
          "output_type": "execute_result",
          "data": {
            "text/plain": [
              "a    222\n",
              "b    333\n",
              "c    444\n",
              "dtype: int64"
            ]
          },
          "metadata": {},
          "execution_count": 11
        }
      ],
      "source": [
        "# Series from a dictionary.\n",
        "pd.Series(my_dict)"
      ]
    },
    {
      "cell_type": "markdown",
      "metadata": {
        "id": "AL5nHKXR3FHG"
      },
      "source": [
        "#### 1.2. Series attributes and indexing:"
      ]
    },
    {
      "cell_type": "code",
      "execution_count": 12,
      "metadata": {
        "id": "HYMfXYjK3FHG",
        "outputId": "b30fa56a-61fa-4f91-fcb2-82c8e5449d55",
        "colab": {
          "base_uri": "https://localhost:8080/"
        }
      },
      "outputs": [
        {
          "output_type": "execute_result",
          "data": {
            "text/plain": [
              "a    111\n",
              "b    222\n",
              "c    333\n",
              "d    444\n",
              "Name: MySeries, dtype: int64"
            ]
          },
          "metadata": {},
          "execution_count": 12
        }
      ],
      "source": [
        "s = pd.Series(data=[111,222,333,444], index = ['a','b','c','d'], name='MySeries')\n",
        "s"
      ]
    },
    {
      "cell_type": "markdown",
      "metadata": {
        "id": "JMR0AVJ63FHH"
      },
      "source": [
        "Series attributes:"
      ]
    },
    {
      "cell_type": "code",
      "execution_count": 13,
      "metadata": {
        "id": "2HKzJ0R13FHH",
        "outputId": "749756fc-debb-499b-9a2a-7ca9162bab82",
        "colab": {
          "base_uri": "https://localhost:8080/"
        }
      },
      "outputs": [
        {
          "output_type": "execute_result",
          "data": {
            "text/plain": [
              "Index(['a', 'b', 'c', 'd'], dtype='object')"
            ]
          },
          "metadata": {},
          "execution_count": 13
        }
      ],
      "source": [
        "s.index                                   # Index labels."
      ]
    },
    {
      "cell_type": "code",
      "execution_count": 14,
      "metadata": {
        "id": "s-KEgZHF3FHH",
        "outputId": "46ad0940-8ab8-4355-ae10-9c09d2ce3226",
        "colab": {
          "base_uri": "https://localhost:8080/",
          "height": 35
        }
      },
      "outputs": [
        {
          "output_type": "execute_result",
          "data": {
            "application/vnd.google.colaboratory.intrinsic+json": {
              "type": "string"
            },
            "text/plain": [
              "'MySeries'"
            ]
          },
          "metadata": {},
          "execution_count": 14
        }
      ],
      "source": [
        "s.name                                    # Name attribute."
      ]
    },
    {
      "cell_type": "code",
      "execution_count": 15,
      "metadata": {
        "id": "JFxBwHJ33FHH",
        "outputId": "2b6b895a-acc9-402d-f232-395ad45fb866",
        "colab": {
          "base_uri": "https://localhost:8080/"
        }
      },
      "outputs": [
        {
          "output_type": "execute_result",
          "data": {
            "text/plain": [
              "dtype('int64')"
            ]
          },
          "metadata": {},
          "execution_count": 15
        }
      ],
      "source": [
        "s.dtype                                   # Data type."
      ]
    },
    {
      "cell_type": "code",
      "execution_count": 16,
      "metadata": {
        "id": "3UQj1RQT3FHI",
        "outputId": "bbdd1816-6af3-44d2-9d3b-ed06bbcacaeb",
        "colab": {
          "base_uri": "https://localhost:8080/"
        }
      },
      "outputs": [
        {
          "output_type": "execute_result",
          "data": {
            "text/plain": [
              "array([111, 222, 333, 444])"
            ]
          },
          "metadata": {},
          "execution_count": 16
        }
      ],
      "source": [
        "s.values                                  # The values as NumPy array."
      ]
    },
    {
      "cell_type": "markdown",
      "metadata": {
        "id": "8E4xerYy3FHI"
      },
      "source": [
        "Series indexing and slicing:"
      ]
    },
    {
      "cell_type": "code",
      "execution_count": 17,
      "metadata": {
        "id": "lLrQchNj3FHI",
        "outputId": "2e25adbe-d88a-4064-8f42-261837c493a7",
        "colab": {
          "base_uri": "https://localhost:8080/"
        }
      },
      "outputs": [
        {
          "output_type": "execute_result",
          "data": {
            "text/plain": [
              "222"
            ]
          },
          "metadata": {},
          "execution_count": 17
        }
      ],
      "source": [
        "s[1]"
      ]
    },
    {
      "cell_type": "code",
      "execution_count": 18,
      "metadata": {
        "id": "bCiQu-TB3FHI",
        "outputId": "479b1e46-a9ff-4b6d-8501-c910fe87e132",
        "colab": {
          "base_uri": "https://localhost:8080/"
        }
      },
      "outputs": [
        {
          "output_type": "execute_result",
          "data": {
            "text/plain": [
              "111"
            ]
          },
          "metadata": {},
          "execution_count": 18
        }
      ],
      "source": [
        "s['a']"
      ]
    },
    {
      "cell_type": "code",
      "execution_count": 19,
      "metadata": {
        "id": "rO4YM0WQ3FHJ",
        "outputId": "dc72af97-d622-4569-8a05-1f61797e9b4f",
        "colab": {
          "base_uri": "https://localhost:8080/"
        }
      },
      "outputs": [
        {
          "output_type": "execute_result",
          "data": {
            "text/plain": [
              "c    333\n",
              "d    444\n",
              "Name: MySeries, dtype: int64"
            ]
          },
          "metadata": {},
          "execution_count": 19
        }
      ],
      "source": [
        "s[2:4]"
      ]
    },
    {
      "cell_type": "code",
      "execution_count": 20,
      "metadata": {
        "id": "3Kbf72gX3FHJ",
        "outputId": "a99d9f51-fa49-4a77-b853-d0ff1932791c",
        "colab": {
          "base_uri": "https://localhost:8080/"
        }
      },
      "outputs": [
        {
          "output_type": "execute_result",
          "data": {
            "text/plain": [
              "a    111\n",
              "d    444\n",
              "Name: MySeries, dtype: int64"
            ]
          },
          "metadata": {},
          "execution_count": 20
        }
      ],
      "source": [
        "s[['a','d']]"
      ]
    },
    {
      "cell_type": "markdown",
      "metadata": {
        "id": "lMz4BEjl3FHJ"
      },
      "source": [
        "#### 1.3. Series operations:"
      ]
    },
    {
      "cell_type": "code",
      "execution_count": 21,
      "metadata": {
        "id": "ylhkxUyM3FHK"
      },
      "outputs": [],
      "source": [
        "s1 = pd.Series(data=[1,2,3,4], index = ['d','b','c','a'])\n",
        "s2 = pd.Series(data=[1,2,3,4], index = ['a','b','d','e'])"
      ]
    },
    {
      "cell_type": "markdown",
      "metadata": {
        "id": "hQ3TVa4L3FHK"
      },
      "source": [
        "Please notice that in the Series to Series operations, the elements are matched by the index labels. <br>\n",
        "When there is no matching index label, we get **NaN**."
      ]
    },
    {
      "cell_type": "code",
      "execution_count": 22,
      "metadata": {
        "id": "Qq070s9A3FHK",
        "outputId": "876e276e-49cd-4545-c48e-8301e0474397",
        "colab": {
          "base_uri": "https://localhost:8080/"
        }
      },
      "outputs": [
        {
          "output_type": "execute_result",
          "data": {
            "text/plain": [
              "a    5.0\n",
              "b    4.0\n",
              "c    NaN\n",
              "d    4.0\n",
              "e    NaN\n",
              "dtype: float64"
            ]
          },
          "metadata": {},
          "execution_count": 22
        }
      ],
      "source": [
        "s1 + s2"
      ]
    },
    {
      "cell_type": "code",
      "execution_count": 23,
      "metadata": {
        "id": "HaVAJxB23FHK",
        "outputId": "bc98c678-8f59-4ad1-c4fc-2f86f60d1aa7",
        "colab": {
          "base_uri": "https://localhost:8080/"
        }
      },
      "outputs": [
        {
          "output_type": "execute_result",
          "data": {
            "text/plain": [
              "a    3.0\n",
              "b    0.0\n",
              "c    NaN\n",
              "d   -2.0\n",
              "e    NaN\n",
              "dtype: float64"
            ]
          },
          "metadata": {},
          "execution_count": 23
        }
      ],
      "source": [
        "s1 - s2"
      ]
    },
    {
      "cell_type": "code",
      "execution_count": 24,
      "metadata": {
        "id": "0IQtP6Xx3FHK",
        "outputId": "2f06177b-bcbe-4418-e630-be6159441fdd",
        "colab": {
          "base_uri": "https://localhost:8080/"
        }
      },
      "outputs": [
        {
          "output_type": "execute_result",
          "data": {
            "text/plain": [
              "a    4.0\n",
              "b    4.0\n",
              "c    NaN\n",
              "d    3.0\n",
              "e    NaN\n",
              "dtype: float64"
            ]
          },
          "metadata": {},
          "execution_count": 24
        }
      ],
      "source": [
        "s1 * s2"
      ]
    },
    {
      "cell_type": "code",
      "execution_count": 25,
      "metadata": {
        "id": "oGN9vQI93FHL",
        "outputId": "5dcbad32-977f-43c9-cee7-ced39d850a4d",
        "colab": {
          "base_uri": "https://localhost:8080/"
        }
      },
      "outputs": [
        {
          "output_type": "execute_result",
          "data": {
            "text/plain": [
              "a    4.000000\n",
              "b    1.000000\n",
              "c         NaN\n",
              "d    0.333333\n",
              "e         NaN\n",
              "dtype: float64"
            ]
          },
          "metadata": {},
          "execution_count": 25
        }
      ],
      "source": [
        "s1/s2"
      ]
    },
    {
      "cell_type": "code",
      "execution_count": 26,
      "metadata": {
        "id": "_WVSxHa73FHL",
        "outputId": "979f3175-83a0-4e63-ae67-122586e54af0",
        "colab": {
          "base_uri": "https://localhost:8080/"
        }
      },
      "outputs": [
        {
          "output_type": "execute_result",
          "data": {
            "text/plain": [
              "d    2\n",
              "b    4\n",
              "c    6\n",
              "a    8\n",
              "dtype: int64"
            ]
          },
          "metadata": {},
          "execution_count": 26
        }
      ],
      "source": [
        "2*s1"
      ]
    },
    {
      "cell_type": "markdown",
      "metadata": {
        "id": "mx7TGXoR3FHL"
      },
      "source": [
        "#### 1.4. Series methods:"
      ]
    },
    {
      "cell_type": "code",
      "execution_count": 27,
      "metadata": {
        "id": "PG3LdVcH3FHL",
        "outputId": "aa358168-e720-4196-94d6-48ef5462fca5",
        "colab": {
          "base_uri": "https://localhost:8080/"
        }
      },
      "outputs": [
        {
          "output_type": "execute_result",
          "data": {
            "text/plain": [
              "10"
            ]
          },
          "metadata": {},
          "execution_count": 27
        }
      ],
      "source": [
        "s1.sum()"
      ]
    },
    {
      "cell_type": "code",
      "execution_count": 28,
      "metadata": {
        "id": "B2Bene5S3FHL",
        "outputId": "a9a22c1a-0f09-418b-a3ad-b47a5b07a580",
        "colab": {
          "base_uri": "https://localhost:8080/"
        }
      },
      "outputs": [
        {
          "output_type": "execute_result",
          "data": {
            "text/plain": [
              "2.5"
            ]
          },
          "metadata": {},
          "execution_count": 28
        }
      ],
      "source": [
        "s1.mean()"
      ]
    },
    {
      "cell_type": "code",
      "execution_count": 29,
      "metadata": {
        "id": "wN4BY9gJ3FHM",
        "outputId": "833d6a39-e16c-46ad-f703-eaf6ea270646",
        "colab": {
          "base_uri": "https://localhost:8080/"
        }
      },
      "outputs": [
        {
          "output_type": "execute_result",
          "data": {
            "text/plain": [
              "2.5"
            ]
          },
          "metadata": {},
          "execution_count": 29
        }
      ],
      "source": [
        "s1.median()"
      ]
    },
    {
      "cell_type": "code",
      "execution_count": 30,
      "metadata": {
        "id": "_CmUBKXH3FHM",
        "outputId": "9ab286a9-d8c0-48b7-e224-11c1abb101f3",
        "colab": {
          "base_uri": "https://localhost:8080/"
        }
      },
      "outputs": [
        {
          "output_type": "execute_result",
          "data": {
            "text/plain": [
              "4"
            ]
          },
          "metadata": {},
          "execution_count": 30
        }
      ],
      "source": [
        "s1.max()"
      ]
    },
    {
      "cell_type": "code",
      "execution_count": 31,
      "metadata": {
        "id": "Yd2RQWNv3FHM",
        "outputId": "7afafae4-2981-41c5-f230-c2d848f576c5",
        "colab": {
          "base_uri": "https://localhost:8080/"
        }
      },
      "outputs": [
        {
          "output_type": "execute_result",
          "data": {
            "text/plain": [
              "1.2909944487358056"
            ]
          },
          "metadata": {},
          "execution_count": 31
        }
      ],
      "source": [
        "s1.std()"
      ]
    },
    {
      "cell_type": "code",
      "execution_count": 32,
      "metadata": {
        "id": "DbrTfxVt3FHM",
        "outputId": "81042be0-bf70-48b8-d76f-fd98bd0029d7",
        "colab": {
          "base_uri": "https://localhost:8080/"
        }
      },
      "outputs": [
        {
          "output_type": "execute_result",
          "data": {
            "text/plain": [
              "d    1\n",
              "b    2\n",
              "c    3\n",
              "a    4\n",
              "dtype: int64"
            ]
          },
          "metadata": {},
          "execution_count": 32
        }
      ],
      "source": [
        "s1.sort_values()"
      ]
    },
    {
      "cell_type": "code",
      "execution_count": 33,
      "metadata": {
        "id": "8HkBcKNs3FHM",
        "outputId": "ca92e53b-9e04-4afc-8a5a-27ab9afd1395",
        "colab": {
          "base_uri": "https://localhost:8080/"
        }
      },
      "outputs": [
        {
          "output_type": "execute_result",
          "data": {
            "text/plain": [
              "a    4\n",
              "b    2\n",
              "c    3\n",
              "d    1\n",
              "dtype: int64"
            ]
          },
          "metadata": {},
          "execution_count": 33
        }
      ],
      "source": [
        "s1.sort_index()"
      ]
    },
    {
      "cell_type": "markdown",
      "metadata": {
        "id": "mwnzXgJD3FHM"
      },
      "source": [
        "apply() method:"
      ]
    },
    {
      "cell_type": "code",
      "execution_count": 34,
      "metadata": {
        "id": "B3yKxPbW3FHN",
        "outputId": "9f56b8e9-97b5-4073-c625-239a3655088f",
        "colab": {
          "base_uri": "https://localhost:8080/"
        }
      },
      "outputs": [
        {
          "output_type": "execute_result",
          "data": {
            "text/plain": [
              "0     165.3\n",
              "1     170.1\n",
              "2     175.0\n",
              "3     182.1\n",
              "4     168.0\n",
              "5     162.0\n",
              "6     155.2\n",
              "7     176.9\n",
              "8     178.5\n",
              "9     176.1\n",
              "10    167.1\n",
              "11    180.0\n",
              "12    162.2\n",
              "13    176.1\n",
              "14    158.2\n",
              "15    168.6\n",
              "16    169.2\n",
              "Name: height, dtype: float64"
            ]
          },
          "metadata": {},
          "execution_count": 34
        }
      ],
      "source": [
        "ser_height = pd.Series([165.3, 170.1, 175.0, 182.1, 168.0, 162.0, 155.2, 176.9, 178.5, 176.1, 167.1, 180.0, 162.2, 176.1, 158.2, 168.6, 169.2],name='height')\n",
        "ser_height                                   "
      ]
    },
    {
      "cell_type": "code",
      "execution_count": 35,
      "metadata": {
        "id": "Ni-YsxTL3FHN",
        "outputId": "5241f014-89b2-4bea-afe5-64acecaebab6",
        "colab": {
          "base_uri": "https://localhost:8080/"
        }
      },
      "outputs": [
        {
          "output_type": "execute_result",
          "data": {
            "text/plain": [
              "0     1.653\n",
              "1     1.701\n",
              "2     1.750\n",
              "3     1.821\n",
              "4     1.680\n",
              "5     1.620\n",
              "6     1.552\n",
              "7     1.769\n",
              "8     1.785\n",
              "9     1.761\n",
              "10    1.671\n",
              "11    1.800\n",
              "12    1.622\n",
              "13    1.761\n",
              "14    1.582\n",
              "15    1.686\n",
              "16    1.692\n",
              "Name: height, dtype: float64"
            ]
          },
          "metadata": {},
          "execution_count": 35
        }
      ],
      "source": [
        "ser_height.apply(lambda x: x/100)"
      ]
    },
    {
      "cell_type": "code",
      "execution_count": null,
      "metadata": {
        "id": "-15kBkZa3FHN"
      },
      "outputs": [],
      "source": [
        ""
      ]
    }
  ],
  "metadata": {
    "kernelspec": {
      "display_name": "Python 3",
      "language": "python",
      "name": "python3"
    },
    "language_info": {
      "codemirror_mode": {
        "name": "ipython",
        "version": 3
      },
      "file_extension": ".py",
      "mimetype": "text/x-python",
      "name": "python",
      "nbconvert_exporter": "python",
      "pygments_lexer": "ipython3",
      "version": "3.7.3"
    },
    "colab": {
      "name": "ex_0204.ipynb",
      "provenance": []
    }
  },
  "nbformat": 4,
  "nbformat_minor": 0
}